{
 "cells": [
  {
   "cell_type": "markdown",
   "metadata": {},
   "source": [
    "# Phong Hoang - Learning Management System Analytics "
   ]
  },
  {
   "cell_type": "markdown",
   "metadata": {},
   "source": [
    "## Introduction"
   ]
  },
  {
   "cell_type": "markdown",
   "metadata": {},
   "source": [
    "**Learning management system (LMS)** is a software application for the administration, documentration, tracking, implementing, assessing a specific learning process. The LMS utilized the eLearning concept and consists of two fundamental elements: a server that setups for the base functionality and a user interface that is used by teachers, students, and managers. For instructors, a learning management system provides an alternative way to create and deliver course material as well as assess student performance. For students, LMS offers them the ability to use interactive features such as threaded discussions, video conferencing, and discussion forums. Last but not least, the management team is able to identify training, analyze data and determining insightful information. Especially, LMSs are designed to be more focused on online learning delivery, acting as a platform of online content for both asynchronous based and synchronous based. To elaborate on Learning Management System, this project will use the [Learning Analytics DataSet](https://analyse.kmi.open.ac.uk/open_dataset) of Open University (OULAD) contains data of courses, students, and their interactions with Virtual Learning Environment (VLE).\n",
    "\n",
    "This paper will tackle down the question of: \"What factors explain the final results of students from seven selected courses?\"\n",
    "Besides some fields which have a high chance of affecting the final result such as `sum_click` - the number of times a student interact with the material in that day or `num_of_prev_attempts` - the number times the student has attempted this module. Furthurmore, there are many factors that influence the student's result; therefore, in order to fully explain the project's capstone, we will have a set of smaller, more manageable questions to test the relationship of the variable and the final result as follow:\n",
    "<ul>\n",
    "<li>Where do students comes from? What is the distribution of the result in each regions?</li>\n",
    "<li>Does gender affects to the score of students, a direct factor to their final result?</li>\n",
    "<li>Does the date of student’s interaction with the material relate to their score? </li>\n",
    "</ul>\n",
    "\n",
    "Our final purpose is to build a data frame with appropriate field to train a model and be able to classify student's final result.\n",
    "\n",
    "The following lists are the publicly available data set that I will use to address my research question:\n",
    "<ul> \n",
    "<li>Focal Data: Learning Analytics DataSet by Open University (OULAD) </li>\n",
    "</ul>"
   ]
  },
  {
   "cell_type": "markdown",
   "metadata": {},
   "source": [
    "## Ethical Considerations"
   ]
  },
  {
   "cell_type": "markdown",
   "metadata": {},
   "source": [
    "When working with this kind of data, we should be mindful of whether the source of these data acknowledge that their information is being disclosed and used for what purpose. We also need to think about whether the data is being taken out of context or not. Therefore, in this analysis, some potential stakeholders are the Open University or the online educational institutions because their personal information is being used publicly. This analysis may commit a breach of privacy of the individuals whose information is used. As for the source, there might be a chance that some sources are not trustworthy. For instance,the Open Universirty want to increase their attraction to students may exaggerate its numbers, specially the number of students pass the courses. There is also a potential that our analysis takes data out of context and becomes misleading. As a result, our analysis may not accurately represent what’s actually happening.\n"
   ]
  },
  {
   "cell_type": "markdown",
   "metadata": {},
   "source": [
    "## Discussing of potential factors for predicting the student result"
   ]
  },
  {
   "cell_type": "markdown",
   "metadata": {},
   "source": [
    "The following lists are the publicly available data set that I will use to address my research question:\n",
    "<ul>\n",
    "<li>date_registration – the date of student’s registration on the module presentation, this is the number of days measured relative to the start of the module-presentation. The earlier a student register for a course, the more passionate for the course he or she has; thus, increase the chance of passing the course. \n",
    "\n",
    "<li> num_of_prev_attempts – the number of times the student has attempted this module. The more attempts students have, the more familiar they will be, increase the chance they get through the course. Besides, who wants to lose their money twice?.\n",
    "    \n",
    "<li>studied_credits – the total number of credits for the modules the student is currently studying. The more credits a student takes at the same time, the less time he or she has for a specific course, so he or she will be more likely to be failed or withdrawn.\n",
    "    \n",
    "<li>imd_band – specifies the Index of Multiple Depravation band of the place where the student lived during the module-presentation. Maybe living in a good condition will allow students to be more focused on their studying, and vice versa.\n",
    "\n",
    "<li>highest_education – highest student education level on entry to the module presentation. Higher education is the ability for learning and thus, have a higher chance of completing the course\n",
    "    \n",
    "<li>age_band – band of the student’s age. The ability to study among ages is different, affecting directly to the final result.\n",
    "score – the student’s score in this assessment. From this, we generated a new variable called weighted_score which calculate student's score based on the exam's weight.\n",
    " \n",
    "<li>sum_click – the number of times a student interacts with the material in that day. From this, we generated a new variable called total_click_per_student which calculates the total student's click on all assignments. That number will reflect student's attention to the material, and it is a great predictor for their result\n",
    "    \n",
    "<li>ontime_submission_rate - the percentage student submits their assignments late. This is a new variable to classify student's results. An ontime_submission is defined as the date_submitted is smaller than the date(information about the final submission date of the assessment). The rate is calculated as the total on-time submission divides by the total of assessment.\n",
    "\n",
    "</ul>"
   ]
  },
  {
   "cell_type": "markdown",
   "metadata": {},
   "source": [
    "## Importing Libraries"
   ]
  },
  {
   "cell_type": "code",
   "execution_count": 1,
   "metadata": {},
   "outputs": [],
   "source": [
    "import numpy as np\n",
    "import matplotlib.pyplot as plt\n",
    "import pandas as pd\n",
    "import sklearn\n",
    "import seaborn as sns"
   ]
  },
  {
   "cell_type": "markdown",
   "metadata": {},
   "source": [
    "## Importing Data Sets"
   ]
  },
  {
   "cell_type": "code",
   "execution_count": 2,
   "metadata": {},
   "outputs": [],
   "source": [
    "assessments = pd.read_csv('assessments.csv')\n",
    "courses = pd.read_csv('courses.csv')\n",
    "studentAssessment = pd.read_csv('studentAssessment.csv')\n",
    "studentinfo = pd.read_csv('studentinfo.csv')\n",
    "studentRegistration = pd.read_csv('studentRegistration.csv')\n",
    "studentVle = pd.read_csv('studentVle.csv')\n",
    "vle = pd.read_csv('vle.csv')"
   ]
  },
  {
   "cell_type": "markdown",
   "metadata": {},
   "source": [
    "## Create new variables"
   ]
  },
  {
   "cell_type": "markdown",
   "metadata": {},
   "source": [
    "### Weighted_Score"
   ]
  },
  {
   "cell_type": "code",
   "execution_count": 3,
   "metadata": {},
   "outputs": [
    {
     "data": {
      "text/html": [
       "<div>\n",
       "<style scoped>\n",
       "    .dataframe tbody tr th:only-of-type {\n",
       "        vertical-align: middle;\n",
       "    }\n",
       "\n",
       "    .dataframe tbody tr th {\n",
       "        vertical-align: top;\n",
       "    }\n",
       "\n",
       "    .dataframe thead th {\n",
       "        text-align: right;\n",
       "    }\n",
       "</style>\n",
       "<table border=\"1\" class=\"dataframe\">\n",
       "  <thead>\n",
       "    <tr style=\"text-align: right;\">\n",
       "      <th></th>\n",
       "      <th>id_student</th>\n",
       "      <th>code_module</th>\n",
       "      <th>code_presentation</th>\n",
       "      <th>weighted_score</th>\n",
       "    </tr>\n",
       "  </thead>\n",
       "  <tbody>\n",
       "    <tr>\n",
       "      <th>0</th>\n",
       "      <td>6516</td>\n",
       "      <td>AAA</td>\n",
       "      <td>2014J</td>\n",
       "      <td>31.75</td>\n",
       "    </tr>\n",
       "    <tr>\n",
       "      <th>1</th>\n",
       "      <td>24734</td>\n",
       "      <td>AAA</td>\n",
       "      <td>2014J</td>\n",
       "      <td>23.75</td>\n",
       "    </tr>\n",
       "    <tr>\n",
       "      <th>2</th>\n",
       "      <td>26192</td>\n",
       "      <td>AAA</td>\n",
       "      <td>2014J</td>\n",
       "      <td>43.15</td>\n",
       "    </tr>\n",
       "    <tr>\n",
       "      <th>3</th>\n",
       "      <td>28061</td>\n",
       "      <td>AAA</td>\n",
       "      <td>2014J</td>\n",
       "      <td>38.70</td>\n",
       "    </tr>\n",
       "    <tr>\n",
       "      <th>4</th>\n",
       "      <td>31600</td>\n",
       "      <td>AAA</td>\n",
       "      <td>2014J</td>\n",
       "      <td>27.75</td>\n",
       "    </tr>\n",
       "    <tr>\n",
       "      <th>...</th>\n",
       "      <td>...</td>\n",
       "      <td>...</td>\n",
       "      <td>...</td>\n",
       "      <td>...</td>\n",
       "    </tr>\n",
       "    <tr>\n",
       "      <th>25838</th>\n",
       "      <td>2654928</td>\n",
       "      <td>EEE</td>\n",
       "      <td>2014J</td>\n",
       "      <td>41.86</td>\n",
       "    </tr>\n",
       "    <tr>\n",
       "      <th>25839</th>\n",
       "      <td>2663195</td>\n",
       "      <td>EEE</td>\n",
       "      <td>2014J</td>\n",
       "      <td>42.00</td>\n",
       "    </tr>\n",
       "    <tr>\n",
       "      <th>25840</th>\n",
       "      <td>2681277</td>\n",
       "      <td>EEE</td>\n",
       "      <td>2014J</td>\n",
       "      <td>7.60</td>\n",
       "    </tr>\n",
       "    <tr>\n",
       "      <th>25841</th>\n",
       "      <td>2686053</td>\n",
       "      <td>EEE</td>\n",
       "      <td>2014J</td>\n",
       "      <td>43.56</td>\n",
       "    </tr>\n",
       "    <tr>\n",
       "      <th>25842</th>\n",
       "      <td>2686712</td>\n",
       "      <td>EEE</td>\n",
       "      <td>2014J</td>\n",
       "      <td>21.16</td>\n",
       "    </tr>\n",
       "  </tbody>\n",
       "</table>\n",
       "<p>25843 rows × 4 columns</p>\n",
       "</div>"
      ],
      "text/plain": [
       "       id_student code_module code_presentation  weighted_score\n",
       "0            6516         AAA             2014J           31.75\n",
       "1           24734         AAA             2014J           23.75\n",
       "2           26192         AAA             2014J           43.15\n",
       "3           28061         AAA             2014J           38.70\n",
       "4           31600         AAA             2014J           27.75\n",
       "...           ...         ...               ...             ...\n",
       "25838     2654928         EEE             2014J           41.86\n",
       "25839     2663195         EEE             2014J           42.00\n",
       "25840     2681277         EEE             2014J            7.60\n",
       "25841     2686053         EEE             2014J           43.56\n",
       "25842     2686712         EEE             2014J           21.16\n",
       "\n",
       "[25843 rows x 4 columns]"
      ]
     },
     "execution_count": 3,
     "metadata": {},
     "output_type": "execute_result"
    }
   ],
   "source": [
    "Assessment_Score = pd.merge(assessments, studentAssessment, on=['id_assessment'])\n",
    "Assessment_Score['weight*score'] = Assessment_Score['weight']*Assessment_Score['score']\n",
    "Total_Score = Assessment_Score.groupby(['id_student', 'code_module', 'code_presentation'])\\\n",
    ".agg(weightByScore = ('weight*score', sum)).reset_index()\n",
    "Total_Weight = assessments.groupby(['code_module', 'code_presentation']).agg(total_weight = ('weight', sum)).reset_index()\n",
    "Score_Weights = pd.merge(Total_Score, Total_Weight, on=['code_module', 'code_presentation'])\n",
    "Score_Weights['weighted_score'] = Score_Weights['weightByScore'] / Score_Weights['total_weight']\n",
    "Score_Weights.drop(columns=['weightByScore', 'total_weight'], inplace=True)\n",
    "Score_Weights"
   ]
  },
  {
   "cell_type": "markdown",
   "metadata": {},
   "source": [
    "### Total_Click "
   ]
  },
  {
   "cell_type": "code",
   "execution_count": 4,
   "metadata": {},
   "outputs": [
    {
     "data": {
      "text/html": [
       "<div>\n",
       "<style scoped>\n",
       "    .dataframe tbody tr th:only-of-type {\n",
       "        vertical-align: middle;\n",
       "    }\n",
       "\n",
       "    .dataframe tbody tr th {\n",
       "        vertical-align: top;\n",
       "    }\n",
       "\n",
       "    .dataframe thead th {\n",
       "        text-align: right;\n",
       "    }\n",
       "</style>\n",
       "<table border=\"1\" class=\"dataframe\">\n",
       "  <thead>\n",
       "    <tr style=\"text-align: right;\">\n",
       "      <th></th>\n",
       "      <th>code_module</th>\n",
       "      <th>code_presentation</th>\n",
       "      <th>id_student</th>\n",
       "      <th>total_click</th>\n",
       "    </tr>\n",
       "  </thead>\n",
       "  <tbody>\n",
       "    <tr>\n",
       "      <th>0</th>\n",
       "      <td>AAA</td>\n",
       "      <td>2013J</td>\n",
       "      <td>11391</td>\n",
       "      <td>934</td>\n",
       "    </tr>\n",
       "    <tr>\n",
       "      <th>1</th>\n",
       "      <td>AAA</td>\n",
       "      <td>2013J</td>\n",
       "      <td>28400</td>\n",
       "      <td>1435</td>\n",
       "    </tr>\n",
       "    <tr>\n",
       "      <th>2</th>\n",
       "      <td>AAA</td>\n",
       "      <td>2013J</td>\n",
       "      <td>30268</td>\n",
       "      <td>281</td>\n",
       "    </tr>\n",
       "    <tr>\n",
       "      <th>3</th>\n",
       "      <td>AAA</td>\n",
       "      <td>2013J</td>\n",
       "      <td>31604</td>\n",
       "      <td>2158</td>\n",
       "    </tr>\n",
       "    <tr>\n",
       "      <th>4</th>\n",
       "      <td>AAA</td>\n",
       "      <td>2013J</td>\n",
       "      <td>32885</td>\n",
       "      <td>1034</td>\n",
       "    </tr>\n",
       "    <tr>\n",
       "      <th>...</th>\n",
       "      <td>...</td>\n",
       "      <td>...</td>\n",
       "      <td>...</td>\n",
       "      <td>...</td>\n",
       "    </tr>\n",
       "    <tr>\n",
       "      <th>29223</th>\n",
       "      <td>GGG</td>\n",
       "      <td>2014J</td>\n",
       "      <td>2640965</td>\n",
       "      <td>41</td>\n",
       "    </tr>\n",
       "    <tr>\n",
       "      <th>29224</th>\n",
       "      <td>GGG</td>\n",
       "      <td>2014J</td>\n",
       "      <td>2645731</td>\n",
       "      <td>893</td>\n",
       "    </tr>\n",
       "    <tr>\n",
       "      <th>29225</th>\n",
       "      <td>GGG</td>\n",
       "      <td>2014J</td>\n",
       "      <td>2648187</td>\n",
       "      <td>312</td>\n",
       "    </tr>\n",
       "    <tr>\n",
       "      <th>29226</th>\n",
       "      <td>GGG</td>\n",
       "      <td>2014J</td>\n",
       "      <td>2679821</td>\n",
       "      <td>275</td>\n",
       "    </tr>\n",
       "    <tr>\n",
       "      <th>29227</th>\n",
       "      <td>GGG</td>\n",
       "      <td>2014J</td>\n",
       "      <td>2684003</td>\n",
       "      <td>616</td>\n",
       "    </tr>\n",
       "  </tbody>\n",
       "</table>\n",
       "<p>29228 rows × 4 columns</p>\n",
       "</div>"
      ],
      "text/plain": [
       "      code_module code_presentation  id_student  total_click\n",
       "0             AAA             2013J       11391          934\n",
       "1             AAA             2013J       28400         1435\n",
       "2             AAA             2013J       30268          281\n",
       "3             AAA             2013J       31604         2158\n",
       "4             AAA             2013J       32885         1034\n",
       "...           ...               ...         ...          ...\n",
       "29223         GGG             2014J     2640965           41\n",
       "29224         GGG             2014J     2645731          893\n",
       "29225         GGG             2014J     2648187          312\n",
       "29226         GGG             2014J     2679821          275\n",
       "29227         GGG             2014J     2684003          616\n",
       "\n",
       "[29228 rows x 4 columns]"
      ]
     },
     "execution_count": 4,
     "metadata": {},
     "output_type": "execute_result"
    }
   ],
   "source": [
    "Student_Material = pd.merge(vle, studentVle)\n",
    "Total_Click = Student_Material.groupby(['code_module', 'code_presentation', 'id_student']).agg(total_click = (\"sum_click\",sum)).reset_index()\n",
    "Total_Click"
   ]
  },
  {
   "cell_type": "markdown",
   "metadata": {},
   "source": [
    "### Ontime_Submission_Rate"
   ]
  },
  {
   "cell_type": "code",
   "execution_count": 5,
   "metadata": {},
   "outputs": [
    {
     "data": {
      "text/html": [
       "<div>\n",
       "<style scoped>\n",
       "    .dataframe tbody tr th:only-of-type {\n",
       "        vertical-align: middle;\n",
       "    }\n",
       "\n",
       "    .dataframe tbody tr th {\n",
       "        vertical-align: top;\n",
       "    }\n",
       "\n",
       "    .dataframe thead th {\n",
       "        text-align: right;\n",
       "    }\n",
       "</style>\n",
       "<table border=\"1\" class=\"dataframe\">\n",
       "  <thead>\n",
       "    <tr style=\"text-align: right;\">\n",
       "      <th></th>\n",
       "      <th>code_module</th>\n",
       "      <th>code_presentation</th>\n",
       "      <th>id_assessment</th>\n",
       "      <th>assessment_type</th>\n",
       "      <th>date</th>\n",
       "      <th>weight</th>\n",
       "      <th>id_student</th>\n",
       "      <th>date_submitted</th>\n",
       "      <th>is_banked</th>\n",
       "      <th>score</th>\n",
       "      <th>weight*score</th>\n",
       "      <th>Difference</th>\n",
       "      <th>OnTime</th>\n",
       "    </tr>\n",
       "  </thead>\n",
       "  <tbody>\n",
       "    <tr>\n",
       "      <th>0</th>\n",
       "      <td>AAA</td>\n",
       "      <td>2013J</td>\n",
       "      <td>1752</td>\n",
       "      <td>TMA</td>\n",
       "      <td>19.0</td>\n",
       "      <td>10.0</td>\n",
       "      <td>11391</td>\n",
       "      <td>18</td>\n",
       "      <td>0</td>\n",
       "      <td>78.0</td>\n",
       "      <td>780.0</td>\n",
       "      <td>1.0</td>\n",
       "      <td>True</td>\n",
       "    </tr>\n",
       "    <tr>\n",
       "      <th>1</th>\n",
       "      <td>AAA</td>\n",
       "      <td>2013J</td>\n",
       "      <td>1752</td>\n",
       "      <td>TMA</td>\n",
       "      <td>19.0</td>\n",
       "      <td>10.0</td>\n",
       "      <td>28400</td>\n",
       "      <td>22</td>\n",
       "      <td>0</td>\n",
       "      <td>70.0</td>\n",
       "      <td>700.0</td>\n",
       "      <td>-3.0</td>\n",
       "      <td>False</td>\n",
       "    </tr>\n",
       "    <tr>\n",
       "      <th>2</th>\n",
       "      <td>AAA</td>\n",
       "      <td>2013J</td>\n",
       "      <td>1752</td>\n",
       "      <td>TMA</td>\n",
       "      <td>19.0</td>\n",
       "      <td>10.0</td>\n",
       "      <td>31604</td>\n",
       "      <td>17</td>\n",
       "      <td>0</td>\n",
       "      <td>72.0</td>\n",
       "      <td>720.0</td>\n",
       "      <td>2.0</td>\n",
       "      <td>True</td>\n",
       "    </tr>\n",
       "    <tr>\n",
       "      <th>3</th>\n",
       "      <td>AAA</td>\n",
       "      <td>2013J</td>\n",
       "      <td>1752</td>\n",
       "      <td>TMA</td>\n",
       "      <td>19.0</td>\n",
       "      <td>10.0</td>\n",
       "      <td>32885</td>\n",
       "      <td>26</td>\n",
       "      <td>0</td>\n",
       "      <td>69.0</td>\n",
       "      <td>690.0</td>\n",
       "      <td>-7.0</td>\n",
       "      <td>False</td>\n",
       "    </tr>\n",
       "    <tr>\n",
       "      <th>4</th>\n",
       "      <td>AAA</td>\n",
       "      <td>2013J</td>\n",
       "      <td>1752</td>\n",
       "      <td>TMA</td>\n",
       "      <td>19.0</td>\n",
       "      <td>10.0</td>\n",
       "      <td>38053</td>\n",
       "      <td>19</td>\n",
       "      <td>0</td>\n",
       "      <td>79.0</td>\n",
       "      <td>790.0</td>\n",
       "      <td>0.0</td>\n",
       "      <td>False</td>\n",
       "    </tr>\n",
       "    <tr>\n",
       "      <th>...</th>\n",
       "      <td>...</td>\n",
       "      <td>...</td>\n",
       "      <td>...</td>\n",
       "      <td>...</td>\n",
       "      <td>...</td>\n",
       "      <td>...</td>\n",
       "      <td>...</td>\n",
       "      <td>...</td>\n",
       "      <td>...</td>\n",
       "      <td>...</td>\n",
       "      <td>...</td>\n",
       "      <td>...</td>\n",
       "      <td>...</td>\n",
       "    </tr>\n",
       "    <tr>\n",
       "      <th>173907</th>\n",
       "      <td>GGG</td>\n",
       "      <td>2014J</td>\n",
       "      <td>37437</td>\n",
       "      <td>TMA</td>\n",
       "      <td>173.0</td>\n",
       "      <td>0.0</td>\n",
       "      <td>652462</td>\n",
       "      <td>172</td>\n",
       "      <td>0</td>\n",
       "      <td>60.0</td>\n",
       "      <td>0.0</td>\n",
       "      <td>1.0</td>\n",
       "      <td>True</td>\n",
       "    </tr>\n",
       "    <tr>\n",
       "      <th>173908</th>\n",
       "      <td>GGG</td>\n",
       "      <td>2014J</td>\n",
       "      <td>37437</td>\n",
       "      <td>TMA</td>\n",
       "      <td>173.0</td>\n",
       "      <td>0.0</td>\n",
       "      <td>652539</td>\n",
       "      <td>176</td>\n",
       "      <td>0</td>\n",
       "      <td>75.0</td>\n",
       "      <td>0.0</td>\n",
       "      <td>-3.0</td>\n",
       "      <td>False</td>\n",
       "    </tr>\n",
       "    <tr>\n",
       "      <th>173909</th>\n",
       "      <td>GGG</td>\n",
       "      <td>2014J</td>\n",
       "      <td>37437</td>\n",
       "      <td>TMA</td>\n",
       "      <td>173.0</td>\n",
       "      <td>0.0</td>\n",
       "      <td>653157</td>\n",
       "      <td>187</td>\n",
       "      <td>0</td>\n",
       "      <td>70.0</td>\n",
       "      <td>0.0</td>\n",
       "      <td>-14.0</td>\n",
       "      <td>False</td>\n",
       "    </tr>\n",
       "    <tr>\n",
       "      <th>173910</th>\n",
       "      <td>GGG</td>\n",
       "      <td>2014J</td>\n",
       "      <td>37437</td>\n",
       "      <td>TMA</td>\n",
       "      <td>173.0</td>\n",
       "      <td>0.0</td>\n",
       "      <td>653252</td>\n",
       "      <td>171</td>\n",
       "      <td>0</td>\n",
       "      <td>70.0</td>\n",
       "      <td>0.0</td>\n",
       "      <td>2.0</td>\n",
       "      <td>True</td>\n",
       "    </tr>\n",
       "    <tr>\n",
       "      <th>173911</th>\n",
       "      <td>GGG</td>\n",
       "      <td>2014J</td>\n",
       "      <td>37437</td>\n",
       "      <td>TMA</td>\n",
       "      <td>173.0</td>\n",
       "      <td>0.0</td>\n",
       "      <td>653374</td>\n",
       "      <td>172</td>\n",
       "      <td>0</td>\n",
       "      <td>50.0</td>\n",
       "      <td>0.0</td>\n",
       "      <td>1.0</td>\n",
       "      <td>True</td>\n",
       "    </tr>\n",
       "  </tbody>\n",
       "</table>\n",
       "<p>173912 rows × 13 columns</p>\n",
       "</div>"
      ],
      "text/plain": [
       "       code_module code_presentation  id_assessment assessment_type   date  \\\n",
       "0              AAA             2013J           1752             TMA   19.0   \n",
       "1              AAA             2013J           1752             TMA   19.0   \n",
       "2              AAA             2013J           1752             TMA   19.0   \n",
       "3              AAA             2013J           1752             TMA   19.0   \n",
       "4              AAA             2013J           1752             TMA   19.0   \n",
       "...            ...               ...            ...             ...    ...   \n",
       "173907         GGG             2014J          37437             TMA  173.0   \n",
       "173908         GGG             2014J          37437             TMA  173.0   \n",
       "173909         GGG             2014J          37437             TMA  173.0   \n",
       "173910         GGG             2014J          37437             TMA  173.0   \n",
       "173911         GGG             2014J          37437             TMA  173.0   \n",
       "\n",
       "        weight  id_student  date_submitted  is_banked  score  weight*score  \\\n",
       "0         10.0       11391              18          0   78.0         780.0   \n",
       "1         10.0       28400              22          0   70.0         700.0   \n",
       "2         10.0       31604              17          0   72.0         720.0   \n",
       "3         10.0       32885              26          0   69.0         690.0   \n",
       "4         10.0       38053              19          0   79.0         790.0   \n",
       "...        ...         ...             ...        ...    ...           ...   \n",
       "173907     0.0      652462             172          0   60.0           0.0   \n",
       "173908     0.0      652539             176          0   75.0           0.0   \n",
       "173909     0.0      653157             187          0   70.0           0.0   \n",
       "173910     0.0      653252             171          0   70.0           0.0   \n",
       "173911     0.0      653374             172          0   50.0           0.0   \n",
       "\n",
       "        Difference  OnTime  \n",
       "0              1.0    True  \n",
       "1             -3.0   False  \n",
       "2              2.0    True  \n",
       "3             -7.0   False  \n",
       "4              0.0   False  \n",
       "...            ...     ...  \n",
       "173907         1.0    True  \n",
       "173908        -3.0   False  \n",
       "173909       -14.0   False  \n",
       "173910         2.0    True  \n",
       "173911         1.0    True  \n",
       "\n",
       "[173912 rows x 13 columns]"
      ]
     },
     "execution_count": 5,
     "metadata": {},
     "output_type": "execute_result"
    }
   ],
   "source": [
    "Assessment_Score['Difference'] = Assessment_Score['date'] - Assessment_Score['date_submitted']\n",
    "Assessment_Score['OnTime'] = np.where(Assessment_Score['Difference'] > 0, True, False)\n",
    "Assessment_Score"
   ]
  },
  {
   "cell_type": "code",
   "execution_count": 6,
   "metadata": {},
   "outputs": [
    {
     "data": {
      "text/html": [
       "<div>\n",
       "<style scoped>\n",
       "    .dataframe tbody tr th:only-of-type {\n",
       "        vertical-align: middle;\n",
       "    }\n",
       "\n",
       "    .dataframe tbody tr th {\n",
       "        vertical-align: top;\n",
       "    }\n",
       "\n",
       "    .dataframe thead th {\n",
       "        text-align: right;\n",
       "    }\n",
       "</style>\n",
       "<table border=\"1\" class=\"dataframe\">\n",
       "  <thead>\n",
       "    <tr style=\"text-align: right;\">\n",
       "      <th></th>\n",
       "      <th>id_student</th>\n",
       "      <th>code_module</th>\n",
       "      <th>code_presentation</th>\n",
       "      <th>ontime_submission_rate</th>\n",
       "    </tr>\n",
       "  </thead>\n",
       "  <tbody>\n",
       "    <tr>\n",
       "      <th>0</th>\n",
       "      <td>6516</td>\n",
       "      <td>AAA</td>\n",
       "      <td>2014J</td>\n",
       "      <td>1.000000</td>\n",
       "    </tr>\n",
       "    <tr>\n",
       "      <th>1</th>\n",
       "      <td>8462</td>\n",
       "      <td>DDD</td>\n",
       "      <td>2013J</td>\n",
       "      <td>0.666667</td>\n",
       "    </tr>\n",
       "    <tr>\n",
       "      <th>2</th>\n",
       "      <td>8462</td>\n",
       "      <td>DDD</td>\n",
       "      <td>2014J</td>\n",
       "      <td>1.000000</td>\n",
       "    </tr>\n",
       "    <tr>\n",
       "      <th>3</th>\n",
       "      <td>11391</td>\n",
       "      <td>AAA</td>\n",
       "      <td>2013J</td>\n",
       "      <td>1.000000</td>\n",
       "    </tr>\n",
       "    <tr>\n",
       "      <th>4</th>\n",
       "      <td>23629</td>\n",
       "      <td>BBB</td>\n",
       "      <td>2013B</td>\n",
       "      <td>0.250000</td>\n",
       "    </tr>\n",
       "    <tr>\n",
       "      <th>...</th>\n",
       "      <td>...</td>\n",
       "      <td>...</td>\n",
       "      <td>...</td>\n",
       "      <td>...</td>\n",
       "    </tr>\n",
       "    <tr>\n",
       "      <th>25838</th>\n",
       "      <td>2698257</td>\n",
       "      <td>AAA</td>\n",
       "      <td>2013J</td>\n",
       "      <td>0.000000</td>\n",
       "    </tr>\n",
       "    <tr>\n",
       "      <th>25839</th>\n",
       "      <td>2698535</td>\n",
       "      <td>CCC</td>\n",
       "      <td>2014B</td>\n",
       "      <td>0.000000</td>\n",
       "    </tr>\n",
       "    <tr>\n",
       "      <th>25840</th>\n",
       "      <td>2698535</td>\n",
       "      <td>EEE</td>\n",
       "      <td>2013J</td>\n",
       "      <td>0.500000</td>\n",
       "    </tr>\n",
       "    <tr>\n",
       "      <th>25841</th>\n",
       "      <td>2698577</td>\n",
       "      <td>BBB</td>\n",
       "      <td>2014J</td>\n",
       "      <td>0.600000</td>\n",
       "    </tr>\n",
       "    <tr>\n",
       "      <th>25842</th>\n",
       "      <td>2698588</td>\n",
       "      <td>BBB</td>\n",
       "      <td>2014J</td>\n",
       "      <td>0.600000</td>\n",
       "    </tr>\n",
       "  </tbody>\n",
       "</table>\n",
       "<p>25843 rows × 4 columns</p>\n",
       "</div>"
      ],
      "text/plain": [
       "       id_student code_module code_presentation  ontime_submission_rate\n",
       "0            6516         AAA             2014J                1.000000\n",
       "1            8462         DDD             2013J                0.666667\n",
       "2            8462         DDD             2014J                1.000000\n",
       "3           11391         AAA             2013J                1.000000\n",
       "4           23629         BBB             2013B                0.250000\n",
       "...           ...         ...               ...                     ...\n",
       "25838     2698257         AAA             2013J                0.000000\n",
       "25839     2698535         CCC             2014B                0.000000\n",
       "25840     2698535         EEE             2013J                0.500000\n",
       "25841     2698577         BBB             2014J                0.600000\n",
       "25842     2698588         BBB             2014J                0.600000\n",
       "\n",
       "[25843 rows x 4 columns]"
      ]
     },
     "execution_count": 6,
     "metadata": {},
     "output_type": "execute_result"
    }
   ],
   "source": [
    "Total_Ontime = Assessment_Score.groupby(['id_student', 'code_module', 'code_presentation']).agg(total_ontime = ('OnTime', sum)).reset_index()\n",
    "Total_Assignments = Assessment_Score[['id_student', 'code_module', 'code_presentation', 'id_assessment']].groupby(['id_student', 'code_module', 'code_presentation']).size().reset_index(name='total_assessments')\n",
    "Ontime_Rate = pd.merge(Total_Ontime,Total_Assignments)\n",
    "Ontime_Rate['ontime_submission_rate'] = Ontime_Rate['total_ontime']/ Ontime_Rate['total_assessments']\n",
    "Ontime_Rate.drop(columns=['total_ontime', 'total_assessments'],inplace=True)\n",
    "Ontime_Rate"
   ]
  },
  {
   "cell_type": "code",
   "execution_count": 7,
   "metadata": {},
   "outputs": [
    {
     "data": {
      "text/html": [
       "<div>\n",
       "<style scoped>\n",
       "    .dataframe tbody tr th:only-of-type {\n",
       "        vertical-align: middle;\n",
       "    }\n",
       "\n",
       "    .dataframe tbody tr th {\n",
       "        vertical-align: top;\n",
       "    }\n",
       "\n",
       "    .dataframe thead th {\n",
       "        text-align: right;\n",
       "    }\n",
       "</style>\n",
       "<table border=\"1\" class=\"dataframe\">\n",
       "  <thead>\n",
       "    <tr style=\"text-align: right;\">\n",
       "      <th></th>\n",
       "      <th>id_student</th>\n",
       "      <th>code_module</th>\n",
       "      <th>code_presentation</th>\n",
       "      <th>ontime_submission_rate</th>\n",
       "      <th>total_click</th>\n",
       "      <th>weighted_score</th>\n",
       "    </tr>\n",
       "  </thead>\n",
       "  <tbody>\n",
       "    <tr>\n",
       "      <th>0</th>\n",
       "      <td>6516</td>\n",
       "      <td>AAA</td>\n",
       "      <td>2014J</td>\n",
       "      <td>1.000000</td>\n",
       "      <td>2791</td>\n",
       "      <td>31.750000</td>\n",
       "    </tr>\n",
       "    <tr>\n",
       "      <th>1</th>\n",
       "      <td>8462</td>\n",
       "      <td>DDD</td>\n",
       "      <td>2013J</td>\n",
       "      <td>0.666667</td>\n",
       "      <td>646</td>\n",
       "      <td>17.450000</td>\n",
       "    </tr>\n",
       "    <tr>\n",
       "      <th>2</th>\n",
       "      <td>8462</td>\n",
       "      <td>DDD</td>\n",
       "      <td>2014J</td>\n",
       "      <td>1.000000</td>\n",
       "      <td>10</td>\n",
       "      <td>21.500000</td>\n",
       "    </tr>\n",
       "    <tr>\n",
       "      <th>3</th>\n",
       "      <td>11391</td>\n",
       "      <td>AAA</td>\n",
       "      <td>2013J</td>\n",
       "      <td>1.000000</td>\n",
       "      <td>934</td>\n",
       "      <td>41.200000</td>\n",
       "    </tr>\n",
       "    <tr>\n",
       "      <th>4</th>\n",
       "      <td>23629</td>\n",
       "      <td>BBB</td>\n",
       "      <td>2013B</td>\n",
       "      <td>0.250000</td>\n",
       "      <td>161</td>\n",
       "      <td>8.345000</td>\n",
       "    </tr>\n",
       "    <tr>\n",
       "      <th>...</th>\n",
       "      <td>...</td>\n",
       "      <td>...</td>\n",
       "      <td>...</td>\n",
       "      <td>...</td>\n",
       "      <td>...</td>\n",
       "      <td>...</td>\n",
       "    </tr>\n",
       "    <tr>\n",
       "      <th>25788</th>\n",
       "      <td>2698257</td>\n",
       "      <td>AAA</td>\n",
       "      <td>2013J</td>\n",
       "      <td>0.000000</td>\n",
       "      <td>758</td>\n",
       "      <td>34.700000</td>\n",
       "    </tr>\n",
       "    <tr>\n",
       "      <th>25789</th>\n",
       "      <td>2698535</td>\n",
       "      <td>CCC</td>\n",
       "      <td>2014B</td>\n",
       "      <td>0.000000</td>\n",
       "      <td>786</td>\n",
       "      <td>3.123333</td>\n",
       "    </tr>\n",
       "    <tr>\n",
       "      <th>25790</th>\n",
       "      <td>2698535</td>\n",
       "      <td>EEE</td>\n",
       "      <td>2013J</td>\n",
       "      <td>0.500000</td>\n",
       "      <td>3455</td>\n",
       "      <td>26.720000</td>\n",
       "    </tr>\n",
       "    <tr>\n",
       "      <th>25791</th>\n",
       "      <td>2698577</td>\n",
       "      <td>BBB</td>\n",
       "      <td>2014J</td>\n",
       "      <td>0.600000</td>\n",
       "      <td>717</td>\n",
       "      <td>27.900000</td>\n",
       "    </tr>\n",
       "    <tr>\n",
       "      <th>25792</th>\n",
       "      <td>2698588</td>\n",
       "      <td>BBB</td>\n",
       "      <td>2014J</td>\n",
       "      <td>0.600000</td>\n",
       "      <td>605</td>\n",
       "      <td>46.200000</td>\n",
       "    </tr>\n",
       "  </tbody>\n",
       "</table>\n",
       "<p>25793 rows × 6 columns</p>\n",
       "</div>"
      ],
      "text/plain": [
       "       id_student code_module code_presentation  ontime_submission_rate  \\\n",
       "0            6516         AAA             2014J                1.000000   \n",
       "1            8462         DDD             2013J                0.666667   \n",
       "2            8462         DDD             2014J                1.000000   \n",
       "3           11391         AAA             2013J                1.000000   \n",
       "4           23629         BBB             2013B                0.250000   \n",
       "...           ...         ...               ...                     ...   \n",
       "25788     2698257         AAA             2013J                0.000000   \n",
       "25789     2698535         CCC             2014B                0.000000   \n",
       "25790     2698535         EEE             2013J                0.500000   \n",
       "25791     2698577         BBB             2014J                0.600000   \n",
       "25792     2698588         BBB             2014J                0.600000   \n",
       "\n",
       "       total_click  weighted_score  \n",
       "0             2791       31.750000  \n",
       "1              646       17.450000  \n",
       "2               10       21.500000  \n",
       "3              934       41.200000  \n",
       "4              161        8.345000  \n",
       "...            ...             ...  \n",
       "25788          758       34.700000  \n",
       "25789          786        3.123333  \n",
       "25790         3455       26.720000  \n",
       "25791          717       27.900000  \n",
       "25792          605       46.200000  \n",
       "\n",
       "[25793 rows x 6 columns]"
      ]
     },
     "execution_count": 7,
     "metadata": {},
     "output_type": "execute_result"
    }
   ],
   "source": [
    "Focal_Data = pd.merge(Ontime_Rate,Total_Click, how = 'inner')\n",
    "Focal_Data = pd.merge(Focal_Data,Score_Weights)\n",
    "Focal_Data"
   ]
  },
  {
   "cell_type": "markdown",
   "metadata": {},
   "source": [
    "## The Summary of Finding other Factors"
   ]
  },
  {
   "cell_type": "markdown",
   "metadata": {},
   "source": [
    "### Final result by regions"
   ]
  },
  {
   "cell_type": "code",
   "execution_count": 8,
   "metadata": {},
   "outputs": [
    {
     "name": "stdout",
     "output_type": "stream",
     "text": [
      "<class 'pandas.core.frame.DataFrame'>\n",
      "RangeIndex: 32593 entries, 0 to 32592\n",
      "Data columns (total 12 columns):\n",
      " #   Column                Non-Null Count  Dtype \n",
      "---  ------                --------------  ----- \n",
      " 0   code_module           32593 non-null  object\n",
      " 1   code_presentation     32593 non-null  object\n",
      " 2   id_student            32593 non-null  int64 \n",
      " 3   gender                32593 non-null  object\n",
      " 4   region                32593 non-null  object\n",
      " 5   highest_education     32593 non-null  object\n",
      " 6   imd_band              31482 non-null  object\n",
      " 7   age_band              32593 non-null  object\n",
      " 8   num_of_prev_attempts  32593 non-null  int64 \n",
      " 9   studied_credits       32593 non-null  int64 \n",
      " 10  disability            32593 non-null  object\n",
      " 11  final_result          32593 non-null  object\n",
      "dtypes: int64(3), object(9)\n",
      "memory usage: 3.0+ MB\n"
     ]
    }
   ],
   "source": [
    "studentinfo.info()"
   ]
  },
  {
   "cell_type": "code",
   "execution_count": 9,
   "metadata": {},
   "outputs": [
    {
     "data": {
      "text/plain": [
       "array([[<AxesSubplot:title={'center':'id_student'}>,\n",
       "        <AxesSubplot:title={'center':'num_of_prev_attempts'}>],\n",
       "       [<AxesSubplot:title={'center':'studied_credits'}>, <AxesSubplot:>]],\n",
       "      dtype=object)"
      ]
     },
     "execution_count": 9,
     "metadata": {},
     "output_type": "execute_result"
    },
    {
     "data": {
      "image/png": "[encoded data removed]",
      "text/plain": [
       "<Figure size 432x288 with 4 Axes>"
      ]
     },
     "metadata": {
      "needs_background": "light"
     },
     "output_type": "display_data"
    }
   ],
   "source": [
    "studentinfo.hist()"
   ]
  },
  {
   "cell_type": "code",
   "execution_count": 10,
   "metadata": {},
   "outputs": [
    {
     "data": {
      "text/plain": [
       "Scotland                3446\n",
       "East Anglian Region     3340\n",
       "London Region           3216\n",
       "South Region            3092\n",
       "North Western Region    2906\n",
       "West Midlands Region    2582\n",
       "South West Region       2436\n",
       "East Midlands Region    2365\n",
       "South East Region       2111\n",
       "Wales                   2086\n",
       "Yorkshire Region        2006\n",
       "North Region            1823\n",
       "Ireland                 1184\n",
       "Name: region, dtype: int64"
      ]
     },
     "execution_count": 10,
     "metadata": {},
     "output_type": "execute_result"
    }
   ],
   "source": [
    "studentinfo['region'].value_counts()"
   ]
  },
  {
   "cell_type": "code",
   "execution_count": 11,
   "metadata": {},
   "outputs": [
    {
     "data": {
      "text/plain": [
       "13"
      ]
     },
     "execution_count": 11,
     "metadata": {},
     "output_type": "execute_result"
    }
   ],
   "source": [
    "studentinfo['region'].nunique()"
   ]
  },
  {
   "cell_type": "code",
   "execution_count": 12,
   "metadata": {},
   "outputs": [
    {
     "data": {
      "image/png": "[encoded data removed]",
      "text/plain": [
       "<Figure size 720x720 with 1 Axes>"
      ]
     },
     "metadata": {
      "needs_background": "light"
     },
     "output_type": "display_data"
    }
   ],
   "source": [
    "studentinfo['region'].hist(bins = 30, figsize=(10,10))\n",
    "plt.xticks(rotation=60)\n",
    "plt.title(\"The number of students participates in VLE by Region\", fontsize=18)\n",
    "plt.xlabel('Region',fontsize=18) \n",
    "plt.ylabel('Frequency',fontsize=18)\n",
    "plt.show()"
   ]
  },
  {
   "cell_type": "markdown",
   "metadata": {},
   "source": [
    "We start addressing the first question by identifying the regions where the student from. There are 13 regions which participate in this VLE, and all of them contribute a fair amount of students, with the only exception may be Ireland with only 1184 student comes from. Scotland has the highest number of students who start the VLE experience, with 3446 students in total. In short, by visualizing the number of students from each region, we are making sure that there don't exist any regions that dominated the student proportions and may lead the final results to become bias. We start approaching to our question of whether the region contribute to the difference in the final result by visualizing the total number of student in each categories in each region."
   ]
  },
  {
   "cell_type": "code",
   "execution_count": 13,
   "metadata": {},
   "outputs": [
    {
     "data": {
      "text/plain": [
       "<seaborn.axisgrid.FacetGrid at 0x2368a84a400>"
      ]
     },
     "execution_count": 13,
     "metadata": {},
     "output_type": "execute_result"
    },
    {
     "data": {
      "image/png": "[encoded data removed]",
      "text/plain": [
       "<Figure size 2246.4x216 with 13 Axes>"
      ]
     },
     "metadata": {},
     "output_type": "display_data"
    }
   ],
   "source": [
    "sns.set(font_scale = 0.75)\n",
    "region_result = sns.FacetGrid(studentinfo, col=\"region\", height=3, aspect=.8)\n",
    "region_result.map(sns.histplot, \"final_result\")\n",
    "region_result.set_axis_labels('Final Result', 'Frequency',fontsize = 12)"
   ]
  },
  {
   "cell_type": "code",
   "execution_count": 14,
   "metadata": {},
   "outputs": [],
   "source": [
    "Region_result = pd.crosstab(studentinfo.region,studentinfo.final_result)"
   ]
  },
  {
   "cell_type": "code",
   "execution_count": 15,
   "metadata": {},
   "outputs": [
    {
     "data": {
      "text/html": [
       "<div>\n",
       "<style scoped>\n",
       "    .dataframe tbody tr th:only-of-type {\n",
       "        vertical-align: middle;\n",
       "    }\n",
       "\n",
       "    .dataframe tbody tr th {\n",
       "        vertical-align: top;\n",
       "    }\n",
       "\n",
       "    .dataframe thead th {\n",
       "        text-align: right;\n",
       "    }\n",
       "</style>\n",
       "<table border=\"1\" class=\"dataframe\">\n",
       "  <thead>\n",
       "    <tr style=\"text-align: right;\">\n",
       "      <th>final_result</th>\n",
       "      <th>Distinction</th>\n",
       "      <th>Fail</th>\n",
       "      <th>Pass</th>\n",
       "      <th>Withdrawn</th>\n",
       "      <th>PassPercentatge</th>\n",
       "      <th>FailPercentatge</th>\n",
       "      <th>WithdrawnPercentatge</th>\n",
       "      <th>DistinctionPercentatge</th>\n",
       "    </tr>\n",
       "    <tr>\n",
       "      <th>region</th>\n",
       "      <th></th>\n",
       "      <th></th>\n",
       "      <th></th>\n",
       "      <th></th>\n",
       "      <th></th>\n",
       "      <th></th>\n",
       "      <th></th>\n",
       "      <th></th>\n",
       "    </tr>\n",
       "  </thead>\n",
       "  <tbody>\n",
       "    <tr>\n",
       "      <th>East Anglian Region</th>\n",
       "      <td>327</td>\n",
       "      <td>698</td>\n",
       "      <td>1309</td>\n",
       "      <td>1006</td>\n",
       "      <td>0.391916</td>\n",
       "      <td>0.208982</td>\n",
       "      <td>0.301198</td>\n",
       "      <td>0.097904</td>\n",
       "    </tr>\n",
       "    <tr>\n",
       "      <th>East Midlands Region</th>\n",
       "      <td>200</td>\n",
       "      <td>462</td>\n",
       "      <td>881</td>\n",
       "      <td>822</td>\n",
       "      <td>0.372516</td>\n",
       "      <td>0.195349</td>\n",
       "      <td>0.347569</td>\n",
       "      <td>0.084567</td>\n",
       "    </tr>\n",
       "    <tr>\n",
       "      <th>Ireland</th>\n",
       "      <td>98</td>\n",
       "      <td>261</td>\n",
       "      <td>552</td>\n",
       "      <td>273</td>\n",
       "      <td>0.466216</td>\n",
       "      <td>0.220439</td>\n",
       "      <td>0.230574</td>\n",
       "      <td>0.082770</td>\n",
       "    </tr>\n",
       "    <tr>\n",
       "      <th>London Region</th>\n",
       "      <td>263</td>\n",
       "      <td>744</td>\n",
       "      <td>1099</td>\n",
       "      <td>1110</td>\n",
       "      <td>0.341729</td>\n",
       "      <td>0.231343</td>\n",
       "      <td>0.345149</td>\n",
       "      <td>0.081779</td>\n",
       "    </tr>\n",
       "    <tr>\n",
       "      <th>North Region</th>\n",
       "      <td>230</td>\n",
       "      <td>327</td>\n",
       "      <td>691</td>\n",
       "      <td>575</td>\n",
       "      <td>0.379046</td>\n",
       "      <td>0.179375</td>\n",
       "      <td>0.315414</td>\n",
       "      <td>0.126166</td>\n",
       "    </tr>\n",
       "    <tr>\n",
       "      <th>North Western Region</th>\n",
       "      <td>213</td>\n",
       "      <td>704</td>\n",
       "      <td>955</td>\n",
       "      <td>1034</td>\n",
       "      <td>0.328630</td>\n",
       "      <td>0.242257</td>\n",
       "      <td>0.355816</td>\n",
       "      <td>0.073297</td>\n",
       "    </tr>\n",
       "    <tr>\n",
       "      <th>Scotland</th>\n",
       "      <td>328</td>\n",
       "      <td>852</td>\n",
       "      <td>1359</td>\n",
       "      <td>907</td>\n",
       "      <td>0.394370</td>\n",
       "      <td>0.247243</td>\n",
       "      <td>0.263204</td>\n",
       "      <td>0.095183</td>\n",
       "    </tr>\n",
       "    <tr>\n",
       "      <th>South East Region</th>\n",
       "      <td>244</td>\n",
       "      <td>375</td>\n",
       "      <td>843</td>\n",
       "      <td>649</td>\n",
       "      <td>0.399337</td>\n",
       "      <td>0.177641</td>\n",
       "      <td>0.307437</td>\n",
       "      <td>0.115585</td>\n",
       "    </tr>\n",
       "    <tr>\n",
       "      <th>South Region</th>\n",
       "      <td>333</td>\n",
       "      <td>544</td>\n",
       "      <td>1287</td>\n",
       "      <td>928</td>\n",
       "      <td>0.416235</td>\n",
       "      <td>0.175938</td>\n",
       "      <td>0.300129</td>\n",
       "      <td>0.107697</td>\n",
       "    </tr>\n",
       "    <tr>\n",
       "      <th>South West Region</th>\n",
       "      <td>264</td>\n",
       "      <td>465</td>\n",
       "      <td>949</td>\n",
       "      <td>758</td>\n",
       "      <td>0.389573</td>\n",
       "      <td>0.190887</td>\n",
       "      <td>0.311166</td>\n",
       "      <td>0.108374</td>\n",
       "    </tr>\n",
       "    <tr>\n",
       "      <th>Wales</th>\n",
       "      <td>177</td>\n",
       "      <td>620</td>\n",
       "      <td>765</td>\n",
       "      <td>524</td>\n",
       "      <td>0.366731</td>\n",
       "      <td>0.297220</td>\n",
       "      <td>0.251198</td>\n",
       "      <td>0.084851</td>\n",
       "    </tr>\n",
       "    <tr>\n",
       "      <th>West Midlands Region</th>\n",
       "      <td>182</td>\n",
       "      <td>551</td>\n",
       "      <td>936</td>\n",
       "      <td>913</td>\n",
       "      <td>0.362510</td>\n",
       "      <td>0.213400</td>\n",
       "      <td>0.353602</td>\n",
       "      <td>0.070488</td>\n",
       "    </tr>\n",
       "    <tr>\n",
       "      <th>Yorkshire Region</th>\n",
       "      <td>165</td>\n",
       "      <td>449</td>\n",
       "      <td>735</td>\n",
       "      <td>657</td>\n",
       "      <td>0.366401</td>\n",
       "      <td>0.223829</td>\n",
       "      <td>0.327517</td>\n",
       "      <td>0.082253</td>\n",
       "    </tr>\n",
       "  </tbody>\n",
       "</table>\n",
       "</div>"
      ],
      "text/plain": [
       "final_result          Distinction  Fail  Pass  Withdrawn  PassPercentatge  \\\n",
       "region                                                                      \n",
       "East Anglian Region           327   698  1309       1006         0.391916   \n",
       "East Midlands Region          200   462   881        822         0.372516   \n",
       "Ireland                        98   261   552        273         0.466216   \n",
       "London Region                 263   744  1099       1110         0.341729   \n",
       "North Region                  230   327   691        575         0.379046   \n",
       "North Western Region          213   704   955       1034         0.328630   \n",
       "Scotland                      328   852  1359        907         0.394370   \n",
       "South East Region             244   375   843        649         0.399337   \n",
       "South Region                  333   544  1287        928         0.416235   \n",
       "South West Region             264   465   949        758         0.389573   \n",
       "Wales                         177   620   765        524         0.366731   \n",
       "West Midlands Region          182   551   936        913         0.362510   \n",
       "Yorkshire Region              165   449   735        657         0.366401   \n",
       "\n",
       "final_result          FailPercentatge  WithdrawnPercentatge  \\\n",
       "region                                                        \n",
       "East Anglian Region          0.208982              0.301198   \n",
       "East Midlands Region         0.195349              0.347569   \n",
       "Ireland                      0.220439              0.230574   \n",
       "London Region                0.231343              0.345149   \n",
       "North Region                 0.179375              0.315414   \n",
       "North Western Region         0.242257              0.355816   \n",
       "Scotland                     0.247243              0.263204   \n",
       "South East Region            0.177641              0.307437   \n",
       "South Region                 0.175938              0.300129   \n",
       "South West Region            0.190887              0.311166   \n",
       "Wales                        0.297220              0.251198   \n",
       "West Midlands Region         0.213400              0.353602   \n",
       "Yorkshire Region             0.223829              0.327517   \n",
       "\n",
       "final_result          DistinctionPercentatge  \n",
       "region                                        \n",
       "East Anglian Region                 0.097904  \n",
       "East Midlands Region                0.084567  \n",
       "Ireland                             0.082770  \n",
       "London Region                       0.081779  \n",
       "North Region                        0.126166  \n",
       "North Western Region                0.073297  \n",
       "Scotland                            0.095183  \n",
       "South East Region                   0.115585  \n",
       "South Region                        0.107697  \n",
       "South West Region                   0.108374  \n",
       "Wales                               0.084851  \n",
       "West Midlands Region                0.070488  \n",
       "Yorkshire Region                    0.082253  "
      ]
     },
     "execution_count": 15,
     "metadata": {},
     "output_type": "execute_result"
    }
   ],
   "source": [
    "Region_result['PassPercentatge'] = Region_result['Pass']/(Region_result['Distinction'] + Region_result['Fail'] + Region_result['Pass'] + Region_result['Withdrawn'])\n",
    "Region_result['FailPercentatge'] = Region_result['Fail']/(Region_result['Distinction'] + Region_result['Fail'] + Region_result['Pass'] + Region_result['Withdrawn'])\n",
    "Region_result['WithdrawnPercentatge'] = Region_result['Withdrawn']/(Region_result['Distinction'] + Region_result['Fail'] + Region_result['Pass'] + Region_result['Withdrawn'])\n",
    "Region_result['DistinctionPercentatge'] = Region_result['Distinction']/(Region_result['Distinction'] + Region_result['Fail'] + Region_result['Pass'] + Region_result['Withdrawn'])\n",
    "Region_result"
   ]
  },
  {
   "cell_type": "code",
   "execution_count": 16,
   "metadata": {},
   "outputs": [
    {
     "data": {
      "text/plain": [
       "0.03451123076756289"
      ]
     },
     "execution_count": 16,
     "metadata": {},
     "output_type": "execute_result"
    }
   ],
   "source": [
    "Region_result['PassPercentatge'].std()"
   ]
  },
  {
   "cell_type": "code",
   "execution_count": 17,
   "metadata": {},
   "outputs": [
    {
     "data": {
      "text/plain": [
       "0.034288341626574875"
      ]
     },
     "execution_count": 17,
     "metadata": {},
     "output_type": "execute_result"
    }
   ],
   "source": [
    "Region_result['FailPercentatge'].std()"
   ]
  },
  {
   "cell_type": "code",
   "execution_count": 18,
   "metadata": {},
   "outputs": [
    {
     "data": {
      "text/plain": [
       "0.039886482336328015"
      ]
     },
     "execution_count": 18,
     "metadata": {},
     "output_type": "execute_result"
    }
   ],
   "source": [
    "Region_result['WithdrawnPercentatge'].std()"
   ]
  },
  {
   "cell_type": "code",
   "execution_count": 19,
   "metadata": {},
   "outputs": [
    {
     "data": {
      "text/plain": [
       "0.017003812826712088"
      ]
     },
     "execution_count": 19,
     "metadata": {},
     "output_type": "execute_result"
    }
   ],
   "source": [
    "Region_result['DistinctionPercentatge'].std()"
   ]
  },
  {
   "cell_type": "markdown",
   "metadata": {},
   "source": [
    "We are looking for the correlation between the region where students come from and their final result. Using the `value.count` function, we generate the pass, fail, withdrawn, distinction percentage of each region. Considering the standard deviation of all these categories, we can safely assume that the region is a factor which explains for the difference in the final result, but it is not the most essential factor as the standard deviation of them are relatively low (<0.04)."
   ]
  },
  {
   "cell_type": "markdown",
   "metadata": {},
   "source": [
    "### Final result by Gender"
   ]
  },
  {
   "cell_type": "code",
   "execution_count": 20,
   "metadata": {},
   "outputs": [
    {
     "data": {
      "text/plain": [
       "M    17875\n",
       "F    14718\n",
       "Name: gender, dtype: int64"
      ]
     },
     "execution_count": 20,
     "metadata": {},
     "output_type": "execute_result"
    }
   ],
   "source": [
    "studentinfo['gender'].value_counts()"
   ]
  },
  {
   "cell_type": "code",
   "execution_count": 21,
   "metadata": {},
   "outputs": [
    {
     "data": {
      "image/png": "[encoded data removed]",
      "text/plain": [
       "<Figure size 720x720 with 1 Axes>"
      ]
     },
     "metadata": {},
     "output_type": "display_data"
    }
   ],
   "source": [
    "studentinfo['gender'].hist(bins = 3, figsize = (10,10))\n",
    "plt.title(\"The number of students participates in VLE by Gender\", fontsize=18)\n",
    "plt.xlabel('Gender',fontsize=18) \n",
    "plt.ylabel('Frequency',fontsize=18)\n",
    "plt.show()"
   ]
  },
  {
   "cell_type": "markdown",
   "metadata": {},
   "source": [
    "Just as the Region histogram, there is no gender that dominates the student pools. To elaborate on the gender factor, we will generate the plot which describes the distribution of the final result by genders."
   ]
  },
  {
   "cell_type": "code",
   "execution_count": 22,
   "metadata": {},
   "outputs": [
    {
     "data": {
      "text/plain": [
       "<seaborn.axisgrid.FacetGrid at 0x2368c3cfee0>"
      ]
     },
     "execution_count": 22,
     "metadata": {},
     "output_type": "execute_result"
    },
    {
     "data": {
      "image/png": "[encoded data removed]",
      "text/plain": [
       "<Figure size 1152x360 with 4 Axes>"
      ]
     },
     "metadata": {},
     "output_type": "display_data"
    }
   ],
   "source": [
    "sns.set(font_scale = 1)\n",
    "gender_result = sns.FacetGrid(studentinfo, col=\"final_result\", height=5, aspect=0.8)\n",
    "gender_result.map(sns.histplot, \"gender\",bins = 3)\n",
    "gender_result.set_axis_labels('Final Result', 'Frequency',fontsize = 14)"
   ]
  },
  {
   "cell_type": "markdown",
   "metadata": {},
   "source": [
    "From the graph itself, clearly there is not a huge difference between genders. We will further strenghthen on this by calculating some statistical numbers."
   ]
  },
  {
   "cell_type": "code",
   "execution_count": 23,
   "metadata": {},
   "outputs": [
    {
     "data": {
      "text/html": [
       "<div>\n",
       "<style scoped>\n",
       "    .dataframe tbody tr th:only-of-type {\n",
       "        vertical-align: middle;\n",
       "    }\n",
       "\n",
       "    .dataframe tbody tr th {\n",
       "        vertical-align: top;\n",
       "    }\n",
       "\n",
       "    .dataframe thead th {\n",
       "        text-align: right;\n",
       "    }\n",
       "</style>\n",
       "<table border=\"1\" class=\"dataframe\">\n",
       "  <thead>\n",
       "    <tr style=\"text-align: right;\">\n",
       "      <th>final_result</th>\n",
       "      <th>Distinction</th>\n",
       "      <th>Fail</th>\n",
       "      <th>Pass</th>\n",
       "      <th>Withdrawn</th>\n",
       "      <th>PassPercentatge</th>\n",
       "      <th>FailPercentatge</th>\n",
       "      <th>WithdrawnPercentatge</th>\n",
       "      <th>DistinctionPercentatge</th>\n",
       "    </tr>\n",
       "    <tr>\n",
       "      <th>gender</th>\n",
       "      <th></th>\n",
       "      <th></th>\n",
       "      <th></th>\n",
       "      <th></th>\n",
       "      <th></th>\n",
       "      <th></th>\n",
       "      <th></th>\n",
       "      <th></th>\n",
       "    </tr>\n",
       "  </thead>\n",
       "  <tbody>\n",
       "    <tr>\n",
       "      <th>F</th>\n",
       "      <td>1394</td>\n",
       "      <td>3103</td>\n",
       "      <td>5735</td>\n",
       "      <td>4486</td>\n",
       "      <td>0.389659</td>\n",
       "      <td>0.210830</td>\n",
       "      <td>0.304797</td>\n",
       "      <td>0.094714</td>\n",
       "    </tr>\n",
       "    <tr>\n",
       "      <th>M</th>\n",
       "      <td>1630</td>\n",
       "      <td>3949</td>\n",
       "      <td>6626</td>\n",
       "      <td>5670</td>\n",
       "      <td>0.370685</td>\n",
       "      <td>0.220923</td>\n",
       "      <td>0.317203</td>\n",
       "      <td>0.091189</td>\n",
       "    </tr>\n",
       "  </tbody>\n",
       "</table>\n",
       "</div>"
      ],
      "text/plain": [
       "final_result  Distinction  Fail  Pass  Withdrawn  PassPercentatge  \\\n",
       "gender                                                              \n",
       "F                    1394  3103  5735       4486         0.389659   \n",
       "M                    1630  3949  6626       5670         0.370685   \n",
       "\n",
       "final_result  FailPercentatge  WithdrawnPercentatge  DistinctionPercentatge  \n",
       "gender                                                                       \n",
       "F                    0.210830              0.304797                0.094714  \n",
       "M                    0.220923              0.317203                0.091189  "
      ]
     },
     "execution_count": 23,
     "metadata": {},
     "output_type": "execute_result"
    }
   ],
   "source": [
    "Gender_result = pd.crosstab(studentinfo.gender,studentinfo.final_result)\n",
    "Gender_result['PassPercentatge'] = Gender_result['Pass']/(Gender_result['Distinction'] + Gender_result['Fail'] + Gender_result['Pass'] + Gender_result['Withdrawn'])\n",
    "Gender_result['FailPercentatge'] = Gender_result['Fail']/(Gender_result['Distinction'] + Gender_result['Fail'] + Gender_result['Pass'] + Gender_result['Withdrawn'])\n",
    "Gender_result['WithdrawnPercentatge'] = Gender_result['Withdrawn']/(Gender_result['Distinction'] + Gender_result['Fail'] + Gender_result['Pass'] + Gender_result['Withdrawn'])\n",
    "Gender_result['DistinctionPercentatge'] = Gender_result['Distinction']/(Gender_result['Distinction'] + Gender_result['Fail'] + Gender_result['Pass'] + Gender_result['Withdrawn'])\n",
    "Gender_result"
   ]
  },
  {
   "cell_type": "markdown",
   "metadata": {},
   "source": [
    "We are looking for the correlation between the gender of students and their final result. Using the `value.count` function, we generate the pass, fail, withdrawn, distinction percentage of each gender. From the result we obtain, it looks like gender does not contribute much to the difference in final result. We will run a statistical test of student gender and their score to clarify our assumption."
   ]
  },
  {
   "cell_type": "code",
   "execution_count": 24,
   "metadata": {},
   "outputs": [
    {
     "data": {
      "text/plain": [
       "Text(0.5, 1.0, 'Distribution of Scores Each Gender')"
      ]
     },
     "execution_count": 24,
     "metadata": {},
     "output_type": "execute_result"
    },
    {
     "data": {
      "image/png": "[encoded data removed]",
      "text/plain": [
       "<Figure size 432x288 with 1 Axes>"
      ]
     },
     "metadata": {},
     "output_type": "display_data"
    }
   ],
   "source": [
    "gender_score = pd.merge(studentinfo, Score_Weights)\n",
    "Gender_Score = sns.boxplot(x=\"gender\", y=\"weighted_score\", data=gender_score)\n",
    "Gender_Score.set_xlabel(\"Gender\", fontsize=20)\n",
    "Gender_Score.set_ylabel(\"Score\", fontsize=20)\n",
    "Gender_Score.axes.set_title(\"Distribution of Scores Each Gender\", fontsize=26)"
   ]
  },
  {
   "cell_type": "code",
   "execution_count": 25,
   "metadata": {},
   "outputs": [],
   "source": [
    "df1 = pd.merge(studentinfo, studentAssessment)\n",
    "male_df = df1[df1['gender'] == 'M']\n",
    "female_df = df1[df1['gender'] == 'F']"
   ]
  },
  {
   "cell_type": "code",
   "execution_count": 26,
   "metadata": {},
   "outputs": [
    {
     "name": "stdout",
     "output_type": "stream",
     "text": [
      "Z_stat:  -1.7887450631310993 p-value:  0.07365588203135552\n"
     ]
    }
   ],
   "source": [
    "from numpy import sqrt, abs, round\n",
    "from scipy.stats import norm\n",
    "se_male=male_df.std()['score']/np.sqrt(17875)\n",
    "se_female=female_df.std()['score']/np.sqrt(14718)\n",
    "sed=np.sqrt((se_male**2) + (se_female**2))\n",
    "Z_stat=(male_df['score'].mean() - female_df['score'].mean())/sed\n",
    "pval = 2*(norm.sf(abs(Z_stat)))\n",
    "print(\"Z_stat: \", Z_stat, \"p-value: \", pval)"
   ]
  },
  {
   "cell_type": "markdown",
   "metadata": {},
   "source": [
    "As Pau Balart & Matthijs Oosterveen demonstrated in [Females show more sustained performance during test-taking than males](https://www.nature.com/articles/s41467-019-11691-y), female students tend to have a better average score than male students. Using our data, we will check this assumption.\n",
    "\n",
    "This is the boxplot represent the test score between genders. From this graph, it seems like different genders will not make a score. To test this claim, we conduct an Z-test for comparing two means with the null hypothesis is there is no significant difference in the mean score between genders and the alternative hypothesis is there is significant difference in the mean score between genders.\n",
    "\n",
    "The p-value of the test is 0.07365588203135552, which is more than the significance level alpha = 0.05. It does not indicate strong evidence against the null hypothesis, as there is more than a 5% probability the null is correct (and the results are random). Therefore, we don't reject the null hypothesis with f statistic is 23.531099310464516 and conclude that gender has barely effect to student's score, the determiner for their final result."
   ]
  },
  {
   "cell_type": "markdown",
   "metadata": {},
   "source": [
    "### Student's interaction"
   ]
  },
  {
   "cell_type": "code",
   "execution_count": 27,
   "metadata": {},
   "outputs": [
    {
     "data": {
      "text/html": [
       "<div>\n",
       "<style scoped>\n",
       "    .dataframe tbody tr th:only-of-type {\n",
       "        vertical-align: middle;\n",
       "    }\n",
       "\n",
       "    .dataframe tbody tr th {\n",
       "        vertical-align: top;\n",
       "    }\n",
       "\n",
       "    .dataframe thead th {\n",
       "        text-align: right;\n",
       "    }\n",
       "</style>\n",
       "<table border=\"1\" class=\"dataframe\">\n",
       "  <thead>\n",
       "    <tr style=\"text-align: right;\">\n",
       "      <th></th>\n",
       "      <th>code_module</th>\n",
       "      <th>code_presentation</th>\n",
       "      <th>id_student</th>\n",
       "      <th>Interaction</th>\n",
       "    </tr>\n",
       "  </thead>\n",
       "  <tbody>\n",
       "    <tr>\n",
       "      <th>0</th>\n",
       "      <td>AAA</td>\n",
       "      <td>2013J</td>\n",
       "      <td>11391</td>\n",
       "      <td>102.132653</td>\n",
       "    </tr>\n",
       "    <tr>\n",
       "      <th>1</th>\n",
       "      <td>AAA</td>\n",
       "      <td>2013J</td>\n",
       "      <td>28400</td>\n",
       "      <td>86.993023</td>\n",
       "    </tr>\n",
       "    <tr>\n",
       "      <th>2</th>\n",
       "      <td>AAA</td>\n",
       "      <td>2013J</td>\n",
       "      <td>30268</td>\n",
       "      <td>2.355263</td>\n",
       "    </tr>\n",
       "    <tr>\n",
       "      <th>3</th>\n",
       "      <td>AAA</td>\n",
       "      <td>2013J</td>\n",
       "      <td>31604</td>\n",
       "      <td>106.147813</td>\n",
       "    </tr>\n",
       "    <tr>\n",
       "      <th>4</th>\n",
       "      <td>AAA</td>\n",
       "      <td>2013J</td>\n",
       "      <td>32885</td>\n",
       "      <td>91.934659</td>\n",
       "    </tr>\n",
       "    <tr>\n",
       "      <th>...</th>\n",
       "      <td>...</td>\n",
       "      <td>...</td>\n",
       "      <td>...</td>\n",
       "      <td>...</td>\n",
       "    </tr>\n",
       "    <tr>\n",
       "      <th>29223</th>\n",
       "      <td>GGG</td>\n",
       "      <td>2014J</td>\n",
       "      <td>2640965</td>\n",
       "      <td>14.368421</td>\n",
       "    </tr>\n",
       "    <tr>\n",
       "      <th>29224</th>\n",
       "      <td>GGG</td>\n",
       "      <td>2014J</td>\n",
       "      <td>2645731</td>\n",
       "      <td>142.928270</td>\n",
       "    </tr>\n",
       "    <tr>\n",
       "      <th>29225</th>\n",
       "      <td>GGG</td>\n",
       "      <td>2014J</td>\n",
       "      <td>2648187</td>\n",
       "      <td>128.981481</td>\n",
       "    </tr>\n",
       "    <tr>\n",
       "      <th>29226</th>\n",
       "      <td>GGG</td>\n",
       "      <td>2014J</td>\n",
       "      <td>2679821</td>\n",
       "      <td>36.721311</td>\n",
       "    </tr>\n",
       "    <tr>\n",
       "      <th>29227</th>\n",
       "      <td>GGG</td>\n",
       "      <td>2014J</td>\n",
       "      <td>2684003</td>\n",
       "      <td>61.806630</td>\n",
       "    </tr>\n",
       "  </tbody>\n",
       "</table>\n",
       "<p>29228 rows × 4 columns</p>\n",
       "</div>"
      ],
      "text/plain": [
       "      code_module code_presentation  id_student  Interaction\n",
       "0             AAA             2013J       11391   102.132653\n",
       "1             AAA             2013J       28400    86.993023\n",
       "2             AAA             2013J       30268     2.355263\n",
       "3             AAA             2013J       31604   106.147813\n",
       "4             AAA             2013J       32885    91.934659\n",
       "...           ...               ...         ...          ...\n",
       "29223         GGG             2014J     2640965    14.368421\n",
       "29224         GGG             2014J     2645731   142.928270\n",
       "29225         GGG             2014J     2648187   128.981481\n",
       "29226         GGG             2014J     2679821    36.721311\n",
       "29227         GGG             2014J     2684003    61.806630\n",
       "\n",
       "[29228 rows x 4 columns]"
      ]
     },
     "execution_count": 27,
     "metadata": {},
     "output_type": "execute_result"
    }
   ],
   "source": [
    "Date_Interaction = studentVle.groupby(['code_module', 'code_presentation', 'id_student']).agg(Interaction = (\"date\", np.mean)).reset_index()\n",
    "Date_Interaction"
   ]
  },
  {
   "cell_type": "code",
   "execution_count": 28,
   "metadata": {},
   "outputs": [
    {
     "data": {
      "text/html": [
       "<div>\n",
       "<style scoped>\n",
       "    .dataframe tbody tr th:only-of-type {\n",
       "        vertical-align: middle;\n",
       "    }\n",
       "\n",
       "    .dataframe tbody tr th {\n",
       "        vertical-align: top;\n",
       "    }\n",
       "\n",
       "    .dataframe thead th {\n",
       "        text-align: right;\n",
       "    }\n",
       "</style>\n",
       "<table border=\"1\" class=\"dataframe\">\n",
       "  <thead>\n",
       "    <tr style=\"text-align: right;\">\n",
       "      <th></th>\n",
       "      <th>id_student</th>\n",
       "      <th>code_module</th>\n",
       "      <th>code_presentation</th>\n",
       "      <th>weighted_score</th>\n",
       "      <th>Interaction</th>\n",
       "    </tr>\n",
       "  </thead>\n",
       "  <tbody>\n",
       "    <tr>\n",
       "      <th>0</th>\n",
       "      <td>6516</td>\n",
       "      <td>AAA</td>\n",
       "      <td>2014J</td>\n",
       "      <td>31.75</td>\n",
       "      <td>110.483384</td>\n",
       "    </tr>\n",
       "    <tr>\n",
       "      <th>1</th>\n",
       "      <td>24734</td>\n",
       "      <td>AAA</td>\n",
       "      <td>2014J</td>\n",
       "      <td>23.75</td>\n",
       "      <td>125.204348</td>\n",
       "    </tr>\n",
       "    <tr>\n",
       "      <th>2</th>\n",
       "      <td>26192</td>\n",
       "      <td>AAA</td>\n",
       "      <td>2014J</td>\n",
       "      <td>43.15</td>\n",
       "      <td>91.250379</td>\n",
       "    </tr>\n",
       "    <tr>\n",
       "      <th>3</th>\n",
       "      <td>28061</td>\n",
       "      <td>AAA</td>\n",
       "      <td>2014J</td>\n",
       "      <td>38.70</td>\n",
       "      <td>87.719457</td>\n",
       "    </tr>\n",
       "    <tr>\n",
       "      <th>4</th>\n",
       "      <td>31600</td>\n",
       "      <td>AAA</td>\n",
       "      <td>2014J</td>\n",
       "      <td>27.75</td>\n",
       "      <td>97.500000</td>\n",
       "    </tr>\n",
       "    <tr>\n",
       "      <th>...</th>\n",
       "      <td>...</td>\n",
       "      <td>...</td>\n",
       "      <td>...</td>\n",
       "      <td>...</td>\n",
       "      <td>...</td>\n",
       "    </tr>\n",
       "    <tr>\n",
       "      <th>25788</th>\n",
       "      <td>2654928</td>\n",
       "      <td>EEE</td>\n",
       "      <td>2014J</td>\n",
       "      <td>41.86</td>\n",
       "      <td>85.256351</td>\n",
       "    </tr>\n",
       "    <tr>\n",
       "      <th>25789</th>\n",
       "      <td>2663195</td>\n",
       "      <td>EEE</td>\n",
       "      <td>2014J</td>\n",
       "      <td>42.00</td>\n",
       "      <td>111.426282</td>\n",
       "    </tr>\n",
       "    <tr>\n",
       "      <th>25790</th>\n",
       "      <td>2681277</td>\n",
       "      <td>EEE</td>\n",
       "      <td>2014J</td>\n",
       "      <td>7.60</td>\n",
       "      <td>17.275862</td>\n",
       "    </tr>\n",
       "    <tr>\n",
       "      <th>25791</th>\n",
       "      <td>2686053</td>\n",
       "      <td>EEE</td>\n",
       "      <td>2014J</td>\n",
       "      <td>43.56</td>\n",
       "      <td>110.909988</td>\n",
       "    </tr>\n",
       "    <tr>\n",
       "      <th>25792</th>\n",
       "      <td>2686712</td>\n",
       "      <td>EEE</td>\n",
       "      <td>2014J</td>\n",
       "      <td>21.16</td>\n",
       "      <td>54.422222</td>\n",
       "    </tr>\n",
       "  </tbody>\n",
       "</table>\n",
       "<p>25793 rows × 5 columns</p>\n",
       "</div>"
      ],
      "text/plain": [
       "       id_student code_module code_presentation  weighted_score  Interaction\n",
       "0            6516         AAA             2014J           31.75   110.483384\n",
       "1           24734         AAA             2014J           23.75   125.204348\n",
       "2           26192         AAA             2014J           43.15    91.250379\n",
       "3           28061         AAA             2014J           38.70    87.719457\n",
       "4           31600         AAA             2014J           27.75    97.500000\n",
       "...           ...         ...               ...             ...          ...\n",
       "25788     2654928         EEE             2014J           41.86    85.256351\n",
       "25789     2663195         EEE             2014J           42.00   111.426282\n",
       "25790     2681277         EEE             2014J            7.60    17.275862\n",
       "25791     2686053         EEE             2014J           43.56   110.909988\n",
       "25792     2686712         EEE             2014J           21.16    54.422222\n",
       "\n",
       "[25793 rows x 5 columns]"
      ]
     },
     "execution_count": 28,
     "metadata": {},
     "output_type": "execute_result"
    }
   ],
   "source": [
    "Interaction_Score = pd.merge(Score_Weights, Date_Interaction)\n",
    "Interaction_Score"
   ]
  },
  {
   "cell_type": "code",
   "execution_count": 29,
   "metadata": {},
   "outputs": [
    {
     "data": {
      "image/png": "[encoded data removed]",
      "text/plain": [
       "<Figure size 1080x1080 with 3 Axes>"
      ]
     },
     "metadata": {},
     "output_type": "display_data"
    }
   ],
   "source": [
    "g=sns.jointplot(x=\"weighted_score\", y=\"Interaction\", data=Interaction_Score, kind='reg',\n",
    "                  joint_kws={'line_kws':{'color':'red'}})\n",
    "g.fig.set_size_inches(15,15)"
   ]
  },
  {
   "cell_type": "code",
   "execution_count": 30,
   "metadata": {},
   "outputs": [
    {
     "data": {
      "text/plain": [
       "0.4851643765665272"
      ]
     },
     "execution_count": 30,
     "metadata": {},
     "output_type": "execute_result"
    }
   ],
   "source": [
    "Interaction_Score['Interaction'].corr(Interaction_Score['weighted_score'])"
   ]
  },
  {
   "cell_type": "markdown",
   "metadata": {},
   "source": [
    "This is the scatter plots with a line regression representing the relationship between the date interaction and its weighted score. From the graph, it seems like there is a positive relationship between these two variables. When calculating the correlation between two variables, we generate a correlation of 0.49, which means the date of interaction affects directly to the total weighted score, which is an esstial factors for the final result."
   ]
  },
  {
   "cell_type": "markdown",
   "metadata": {},
   "source": [
    "## Classification"
   ]
  },
  {
   "cell_type": "markdown",
   "metadata": {},
   "source": [
    "### Data Processing"
   ]
  },
  {
   "cell_type": "markdown",
   "metadata": {},
   "source": [
    "#### Generating our training set"
   ]
  },
  {
   "cell_type": "code",
   "execution_count": 31,
   "metadata": {},
   "outputs": [
    {
     "data": {
      "text/html": [
       "<div>\n",
       "<style scoped>\n",
       "    .dataframe tbody tr th:only-of-type {\n",
       "        vertical-align: middle;\n",
       "    }\n",
       "\n",
       "    .dataframe tbody tr th {\n",
       "        vertical-align: top;\n",
       "    }\n",
       "\n",
       "    .dataframe thead th {\n",
       "        text-align: right;\n",
       "    }\n",
       "</style>\n",
       "<table border=\"1\" class=\"dataframe\">\n",
       "  <thead>\n",
       "    <tr style=\"text-align: right;\">\n",
       "      <th></th>\n",
       "      <th>ontime_submission_rate</th>\n",
       "      <th>total_click</th>\n",
       "      <th>weighted_score</th>\n",
       "      <th>Interaction</th>\n",
       "      <th>highest_education</th>\n",
       "      <th>imd_band</th>\n",
       "      <th>age_band</th>\n",
       "      <th>num_of_prev_attempts</th>\n",
       "      <th>studied_credits</th>\n",
       "      <th>final_result</th>\n",
       "    </tr>\n",
       "  </thead>\n",
       "  <tbody>\n",
       "    <tr>\n",
       "      <th>0</th>\n",
       "      <td>1.000000</td>\n",
       "      <td>2791</td>\n",
       "      <td>31.750</td>\n",
       "      <td>110.483384</td>\n",
       "      <td>HE Qualification</td>\n",
       "      <td>80-90%</td>\n",
       "      <td>55&lt;=</td>\n",
       "      <td>0</td>\n",
       "      <td>60</td>\n",
       "      <td>Pass</td>\n",
       "    </tr>\n",
       "    <tr>\n",
       "      <th>1</th>\n",
       "      <td>0.666667</td>\n",
       "      <td>646</td>\n",
       "      <td>17.450</td>\n",
       "      <td>37.490000</td>\n",
       "      <td>HE Qualification</td>\n",
       "      <td>30-40%</td>\n",
       "      <td>55&lt;=</td>\n",
       "      <td>0</td>\n",
       "      <td>90</td>\n",
       "      <td>Withdrawn</td>\n",
       "    </tr>\n",
       "    <tr>\n",
       "      <th>2</th>\n",
       "      <td>1.000000</td>\n",
       "      <td>10</td>\n",
       "      <td>21.500</td>\n",
       "      <td>10.000000</td>\n",
       "      <td>HE Qualification</td>\n",
       "      <td>30-40%</td>\n",
       "      <td>55&lt;=</td>\n",
       "      <td>1</td>\n",
       "      <td>60</td>\n",
       "      <td>Withdrawn</td>\n",
       "    </tr>\n",
       "    <tr>\n",
       "      <th>3</th>\n",
       "      <td>1.000000</td>\n",
       "      <td>934</td>\n",
       "      <td>41.200</td>\n",
       "      <td>102.132653</td>\n",
       "      <td>HE Qualification</td>\n",
       "      <td>90-100%</td>\n",
       "      <td>55&lt;=</td>\n",
       "      <td>0</td>\n",
       "      <td>240</td>\n",
       "      <td>Pass</td>\n",
       "    </tr>\n",
       "    <tr>\n",
       "      <th>4</th>\n",
       "      <td>0.250000</td>\n",
       "      <td>161</td>\n",
       "      <td>8.345</td>\n",
       "      <td>43.033898</td>\n",
       "      <td>Lower Than A Level</td>\n",
       "      <td>20-30%</td>\n",
       "      <td>0-35</td>\n",
       "      <td>2</td>\n",
       "      <td>60</td>\n",
       "      <td>Fail</td>\n",
       "    </tr>\n",
       "  </tbody>\n",
       "</table>\n",
       "</div>"
      ],
      "text/plain": [
       "   ontime_submission_rate  total_click  weighted_score  Interaction  \\\n",
       "0                1.000000         2791          31.750   110.483384   \n",
       "1                0.666667          646          17.450    37.490000   \n",
       "2                1.000000           10          21.500    10.000000   \n",
       "3                1.000000          934          41.200   102.132653   \n",
       "4                0.250000          161           8.345    43.033898   \n",
       "\n",
       "    highest_education imd_band age_band  num_of_prev_attempts  \\\n",
       "0    HE Qualification   80-90%     55<=                     0   \n",
       "1    HE Qualification   30-40%     55<=                     0   \n",
       "2    HE Qualification   30-40%     55<=                     1   \n",
       "3    HE Qualification  90-100%     55<=                     0   \n",
       "4  Lower Than A Level   20-30%     0-35                     2   \n",
       "\n",
       "   studied_credits final_result  \n",
       "0               60         Pass  \n",
       "1               90    Withdrawn  \n",
       "2               60    Withdrawn  \n",
       "3              240         Pass  \n",
       "4               60         Fail  "
      ]
     },
     "execution_count": 31,
     "metadata": {},
     "output_type": "execute_result"
    }
   ],
   "source": [
    "Focal_Data = pd.merge(Focal_Data, Interaction_Score)\n",
    "Focal_Data = pd.merge(Focal_Data, studentinfo)\n",
    "Focal_Data.drop(columns=['id_student', 'code_module', 'code_presentation', 'gender','region', 'disability'], inplace=True)\n",
    "Focal_Data.head()"
   ]
  },
  {
   "cell_type": "code",
   "execution_count": 32,
   "metadata": {},
   "outputs": [
    {
     "name": "stdout",
     "output_type": "stream",
     "text": [
      "<class 'pandas.core.frame.DataFrame'>\n",
      "Int64Index: 25793 entries, 0 to 25792\n",
      "Data columns (total 10 columns):\n",
      " #   Column                  Non-Null Count  Dtype  \n",
      "---  ------                  --------------  -----  \n",
      " 0   ontime_submission_rate  25793 non-null  float64\n",
      " 1   total_click             25793 non-null  int64  \n",
      " 2   weighted_score          25793 non-null  float64\n",
      " 3   Interaction             25793 non-null  float64\n",
      " 4   highest_education       25793 non-null  object \n",
      " 5   imd_band                24796 non-null  object \n",
      " 6   age_band                25793 non-null  object \n",
      " 7   num_of_prev_attempts    25793 non-null  int64  \n",
      " 8   studied_credits         25793 non-null  int64  \n",
      " 9   final_result            25793 non-null  object \n",
      "dtypes: float64(3), int64(3), object(4)\n",
      "memory usage: 2.2+ MB\n"
     ]
    }
   ],
   "source": [
    "Focal_Data.info()"
   ]
  },
  {
   "cell_type": "code",
   "execution_count": 33,
   "metadata": {},
   "outputs": [
    {
     "data": {
      "text/html": [
       "<div>\n",
       "<style scoped>\n",
       "    .dataframe tbody tr th:only-of-type {\n",
       "        vertical-align: middle;\n",
       "    }\n",
       "\n",
       "    .dataframe tbody tr th {\n",
       "        vertical-align: top;\n",
       "    }\n",
       "\n",
       "    .dataframe thead th {\n",
       "        text-align: right;\n",
       "    }\n",
       "</style>\n",
       "<table border=\"1\" class=\"dataframe\">\n",
       "  <thead>\n",
       "    <tr style=\"text-align: right;\">\n",
       "      <th></th>\n",
       "      <th>count</th>\n",
       "      <th>mean</th>\n",
       "      <th>std</th>\n",
       "      <th>min</th>\n",
       "      <th>25%</th>\n",
       "      <th>50%</th>\n",
       "      <th>75%</th>\n",
       "      <th>max</th>\n",
       "    </tr>\n",
       "  </thead>\n",
       "  <tbody>\n",
       "    <tr>\n",
       "      <th>ontime_submission_rate</th>\n",
       "      <td>25793.0</td>\n",
       "      <td>0.488857</td>\n",
       "      <td>0.375194</td>\n",
       "      <td>0.0</td>\n",
       "      <td>0.111111</td>\n",
       "      <td>0.500000</td>\n",
       "      <td>0.857143</td>\n",
       "      <td>1.00000</td>\n",
       "    </tr>\n",
       "    <tr>\n",
       "      <th>total_click</th>\n",
       "      <td>25793.0</td>\n",
       "      <td>1522.873028</td>\n",
       "      <td>1778.435282</td>\n",
       "      <td>1.0</td>\n",
       "      <td>392.000000</td>\n",
       "      <td>907.000000</td>\n",
       "      <td>1991.000000</td>\n",
       "      <td>24139.00000</td>\n",
       "    </tr>\n",
       "    <tr>\n",
       "      <th>weighted_score</th>\n",
       "      <td>25793.0</td>\n",
       "      <td>28.881480</td>\n",
       "      <td>21.841824</td>\n",
       "      <td>0.0</td>\n",
       "      <td>7.855000</td>\n",
       "      <td>31.175000</td>\n",
       "      <td>42.000000</td>\n",
       "      <td>98.95000</td>\n",
       "    </tr>\n",
       "    <tr>\n",
       "      <th>Interaction</th>\n",
       "      <td>25793.0</td>\n",
       "      <td>83.269134</td>\n",
       "      <td>39.704516</td>\n",
       "      <td>-24.0</td>\n",
       "      <td>52.009569</td>\n",
       "      <td>92.351961</td>\n",
       "      <td>111.067831</td>\n",
       "      <td>239.66087</td>\n",
       "    </tr>\n",
       "    <tr>\n",
       "      <th>num_of_prev_attempts</th>\n",
       "      <td>25793.0</td>\n",
       "      <td>0.155120</td>\n",
       "      <td>0.465895</td>\n",
       "      <td>0.0</td>\n",
       "      <td>0.000000</td>\n",
       "      <td>0.000000</td>\n",
       "      <td>0.000000</td>\n",
       "      <td>6.00000</td>\n",
       "    </tr>\n",
       "    <tr>\n",
       "      <th>studied_credits</th>\n",
       "      <td>25793.0</td>\n",
       "      <td>76.778389</td>\n",
       "      <td>38.286432</td>\n",
       "      <td>30.0</td>\n",
       "      <td>60.000000</td>\n",
       "      <td>60.000000</td>\n",
       "      <td>90.000000</td>\n",
       "      <td>630.00000</td>\n",
       "    </tr>\n",
       "  </tbody>\n",
       "</table>\n",
       "</div>"
      ],
      "text/plain": [
       "                          count         mean          std   min         25%  \\\n",
       "ontime_submission_rate  25793.0     0.488857     0.375194   0.0    0.111111   \n",
       "total_click             25793.0  1522.873028  1778.435282   1.0  392.000000   \n",
       "weighted_score          25793.0    28.881480    21.841824   0.0    7.855000   \n",
       "Interaction             25793.0    83.269134    39.704516 -24.0   52.009569   \n",
       "num_of_prev_attempts    25793.0     0.155120     0.465895   0.0    0.000000   \n",
       "studied_credits         25793.0    76.778389    38.286432  30.0   60.000000   \n",
       "\n",
       "                               50%          75%          max  \n",
       "ontime_submission_rate    0.500000     0.857143      1.00000  \n",
       "total_click             907.000000  1991.000000  24139.00000  \n",
       "weighted_score           31.175000    42.000000     98.95000  \n",
       "Interaction              92.351961   111.067831    239.66087  \n",
       "num_of_prev_attempts      0.000000     0.000000      6.00000  \n",
       "studied_credits          60.000000    90.000000    630.00000  "
      ]
     },
     "execution_count": 33,
     "metadata": {},
     "output_type": "execute_result"
    }
   ],
   "source": [
    "Focal_Data.describe().transpose()"
   ]
  },
  {
   "cell_type": "markdown",
   "metadata": {},
   "source": [
    "Notice that every coloumn has 20640 rows, excepts for the `imd_band` column, which contains only 20433 rows. Therefore, this column has some missing values and we need a proper cleaning for it."
   ]
  },
  {
   "cell_type": "markdown",
   "metadata": {},
   "source": [
    "#### Visualizing the data"
   ]
  },
  {
   "cell_type": "code",
   "execution_count": 34,
   "metadata": {},
   "outputs": [
    {
     "data": {
      "image/png": "[encoded data removed]",
      "text/plain": [
       "<Figure size 1080x1080 with 6 Axes>"
      ]
     },
     "metadata": {},
     "output_type": "display_data"
    }
   ],
   "source": [
    "Focal_Data.hist(bins=50, figsize=(15,15))\n",
    "plt.show()"
   ]
  },
  {
   "cell_type": "markdown",
   "metadata": {},
   "source": [
    "#### Taking care of missing values"
   ]
  },
  {
   "cell_type": "markdown",
   "metadata": {},
   "source": [
    "Focusing on the column of `imd_band`, we see that it is a categorical column; thus, a great way to deal with the NA value in this situation is replacing the NA value with the most frequency value of the column."
   ]
  },
  {
   "cell_type": "code",
   "execution_count": 35,
   "metadata": {},
   "outputs": [],
   "source": [
    "from sklearn.impute import SimpleImputer\n",
    "imputer = SimpleImputer(missing_values=np.nan, strategy='most_frequent')\n",
    "imputer.fit(Focal_Data[[\"imd_band\"]])\n",
    "Focal_Data[\"imd_band\"] = imputer.transform(Focal_Data[[\"imd_band\"]])"
   ]
  },
  {
   "cell_type": "code",
   "execution_count": 36,
   "metadata": {},
   "outputs": [
    {
     "name": "stdout",
     "output_type": "stream",
     "text": [
      "<class 'pandas.core.frame.DataFrame'>\n",
      "Int64Index: 25793 entries, 0 to 25792\n",
      "Data columns (total 10 columns):\n",
      " #   Column                  Non-Null Count  Dtype  \n",
      "---  ------                  --------------  -----  \n",
      " 0   ontime_submission_rate  25793 non-null  float64\n",
      " 1   total_click             25793 non-null  int64  \n",
      " 2   weighted_score          25793 non-null  float64\n",
      " 3   Interaction             25793 non-null  float64\n",
      " 4   highest_education       25793 non-null  object \n",
      " 5   imd_band                25793 non-null  object \n",
      " 6   age_band                25793 non-null  object \n",
      " 7   num_of_prev_attempts    25793 non-null  int64  \n",
      " 8   studied_credits         25793 non-null  int64  \n",
      " 9   final_result            25793 non-null  object \n",
      "dtypes: float64(3), int64(3), object(4)\n",
      "memory usage: 2.2+ MB\n"
     ]
    }
   ],
   "source": [
    "Focal_Data.info()"
   ]
  },
  {
   "cell_type": "markdown",
   "metadata": {},
   "source": [
    "We check again the number of non-null values in the `imd_band` to see our replacement code correct. It appears that the column now is containing 25799  values, which means our missing values have been filled.\n",
    "\n"
   ]
  },
  {
   "cell_type": "markdown",
   "metadata": {},
   "source": [
    "#### Seperating the independent values and dependent values"
   ]
  },
  {
   "cell_type": "markdown",
   "metadata": {},
   "source": [
    "#### Encoding the data"
   ]
  },
  {
   "cell_type": "markdown",
   "metadata": {},
   "source": [
    "When we check the information of the data again, the `imd_band` and `age_band` has the data type of non-number, creating problems when we try to train a model for our data set. Take a closer look at these two columns:"
   ]
  },
  {
   "cell_type": "code",
   "execution_count": 37,
   "metadata": {},
   "outputs": [
    {
     "data": {
      "text/plain": [
       "30-40%     3772\n",
       "20-30%     2741\n",
       "10-20      2604\n",
       "40-50%     2549\n",
       "50-60%     2541\n",
       "0-10%      2423\n",
       "60-70%     2384\n",
       "70-80%     2379\n",
       "80-90%     2264\n",
       "90-100%    2136\n",
       "Name: imd_band, dtype: int64"
      ]
     },
     "execution_count": 37,
     "metadata": {},
     "output_type": "execute_result"
    }
   ],
   "source": [
    "Focal_Data['imd_band'].value_counts()"
   ]
  },
  {
   "cell_type": "code",
   "execution_count": 38,
   "metadata": {},
   "outputs": [
    {
     "data": {
      "text/plain": [
       "0-35     17914\n",
       "35-55     7692\n",
       "55<=       187\n",
       "Name: age_band, dtype: int64"
      ]
     },
     "execution_count": 38,
     "metadata": {},
     "output_type": "execute_result"
    }
   ],
   "source": [
    "Focal_Data['age_band'].value_counts()"
   ]
  },
  {
   "cell_type": "markdown",
   "metadata": {},
   "source": [
    "For both `imd_band` and `age_band` the categorical feature is ordinal; therefore, instead of OneHotEncoder, it is appropriate to use Label Enconder to handle such categorical data."
   ]
  },
  {
   "cell_type": "code",
   "execution_count": 39,
   "metadata": {},
   "outputs": [],
   "source": [
    "from sklearn.preprocessing import LabelEncoder\n",
    "le = LabelEncoder()\n",
    "Focal_Data['age_band'] = le.fit_transform(Focal_Data['age_band'])"
   ]
  },
  {
   "cell_type": "code",
   "execution_count": 40,
   "metadata": {},
   "outputs": [],
   "source": [
    "Focal_Data['imd_band'] = le.fit_transform(Focal_Data['imd_band'])"
   ]
  },
  {
   "cell_type": "code",
   "execution_count": 41,
   "metadata": {},
   "outputs": [],
   "source": [
    "X = Focal_Data.iloc[:, Focal_Data.columns != 'final_result' ].values\n",
    "y = Focal_Data.iloc[:, -1].values"
   ]
  },
  {
   "cell_type": "markdown",
   "metadata": {},
   "source": [
    "We have one more categorical value, which is the `highest_education` columns. As the value of this columns seems not to share any relationships, using OneHotEncoder is a proper to tranform this."
   ]
  },
  {
   "cell_type": "code",
   "execution_count": 42,
   "metadata": {},
   "outputs": [],
   "source": [
    "from sklearn.compose import ColumnTransformer\n",
    "from sklearn.preprocessing import OneHotEncoder\n",
    "ct = ColumnTransformer(transformers=[('encoder', OneHotEncoder(), [4])], remainder='passthrough')\n",
    "X = np.array(ct.fit_transform(X))"
   ]
  },
  {
   "cell_type": "markdown",
   "metadata": {},
   "source": [
    "#### Splitting the dataset into the Training set and Test set"
   ]
  },
  {
   "cell_type": "code",
   "execution_count": 43,
   "metadata": {},
   "outputs": [],
   "source": [
    "from sklearn.model_selection import train_test_split\n",
    "X_train, X_test, y_train, y_test = train_test_split(X, y, test_size = 0.2, random_state = 1)"
   ]
  },
  {
   "cell_type": "markdown",
   "metadata": {},
   "source": [
    "#### Feature Scaling"
   ]
  },
  {
   "cell_type": "markdown",
   "metadata": {},
   "source": [
    "Our columns contains a different range of values, for example the `total_clicks` columns reaching to almost 10000, while the `num_of_prev_attempts` only ranges from 0 to 6.  Such different ranges can create problem for our Machine Learning algorithm to learn and train the data, so we need to apply a feature scaling called standardization into our data set.\n"
   ]
  },
  {
   "cell_type": "code",
   "execution_count": 44,
   "metadata": {},
   "outputs": [],
   "source": [
    "from sklearn.preprocessing import StandardScaler\n",
    "sc = StandardScaler()\n",
    "X_train = sc.fit_transform(X_train)\n",
    "X_test = sc.transform(X_test)"
   ]
  },
  {
   "cell_type": "markdown",
   "metadata": {},
   "source": [
    "#### Decision Tree Classification"
   ]
  },
  {
   "cell_type": "code",
   "execution_count": 45,
   "metadata": {},
   "outputs": [
    {
     "data": {
      "text/plain": [
       "DecisionTreeClassifier(criterion='entropy', random_state=0)"
      ]
     },
     "execution_count": 45,
     "metadata": {},
     "output_type": "execute_result"
    }
   ],
   "source": [
    "from sklearn.tree import DecisionTreeClassifier\n",
    "DecisionTreeclassifier = DecisionTreeClassifier(criterion = 'entropy', random_state = 0)\n",
    "DecisionTreeclassifier.fit(X_train, y_train)"
   ]
  },
  {
   "cell_type": "code",
   "execution_count": 46,
   "metadata": {},
   "outputs": [
    {
     "name": "stdout",
     "output_type": "stream",
     "text": [
      "[[ 298   16  287    2]\n",
      " [  28  464  244  368]\n",
      " [ 312  289 1887   33]\n",
      " [   1  386   29  515]]\n"
     ]
    },
    {
     "data": {
      "text/plain": [
       "0.6132971506105834"
      ]
     },
     "execution_count": 46,
     "metadata": {},
     "output_type": "execute_result"
    }
   ],
   "source": [
    "from sklearn.metrics import confusion_matrix, accuracy_score\n",
    "DecisionTreey_pred = DecisionTreeclassifier.predict(X_test)\n",
    "DecisionTreecm = confusion_matrix(y_test, DecisionTreey_pred)\n",
    "print(DecisionTreecm)\n",
    "accuracy_score(y_test, DecisionTreey_pred)"
   ]
  },
  {
   "cell_type": "code",
   "execution_count": 47,
   "metadata": {},
   "outputs": [
    {
     "name": "stdout",
     "output_type": "stream",
     "text": [
      "0.5518480299692707\n"
     ]
    }
   ],
   "source": [
    "from sklearn.metrics import f1_score\n",
    "DecisionTreef1score = f1_score(y_test, DecisionTreey_pred,average=\"macro\")\n",
    "print(DecisionTreef1score)"
   ]
  },
  {
   "cell_type": "markdown",
   "metadata": {},
   "source": [
    "#### KNN Classificaion"
   ]
  },
  {
   "cell_type": "code",
   "execution_count": 48,
   "metadata": {},
   "outputs": [
    {
     "data": {
      "text/plain": [
       "KNeighborsClassifier()"
      ]
     },
     "execution_count": 48,
     "metadata": {},
     "output_type": "execute_result"
    }
   ],
   "source": [
    "from sklearn.neighbors import KNeighborsClassifier\n",
    "KNNclassifier = KNeighborsClassifier(n_neighbors = 5, metric = 'minkowski', p = 2)\n",
    "KNNclassifier.fit(X_train, y_train)"
   ]
  },
  {
   "cell_type": "code",
   "execution_count": 49,
   "metadata": {},
   "outputs": [
    {
     "name": "stdout",
     "output_type": "stream",
     "text": [
      "[[ 145   17  441    0]\n",
      " [  16  430  315  343]\n",
      " [ 270  164 2080    7]\n",
      " [   3  340   41  547]]\n"
     ]
    },
    {
     "data": {
      "text/plain": [
       "0.6206629191703819"
      ]
     },
     "execution_count": 49,
     "metadata": {},
     "output_type": "execute_result"
    }
   ],
   "source": [
    "KNNy_pred = KNNclassifier.predict(X_test)\n",
    "KNNcm = confusion_matrix(y_test, KNNy_pred)\n",
    "print(KNNcm)\n",
    "accuracy_score(y_test, KNNy_pred)"
   ]
  },
  {
   "cell_type": "code",
   "execution_count": 50,
   "metadata": {},
   "outputs": [
    {
     "name": "stdout",
     "output_type": "stream",
     "text": [
      "0.5168170996770076\n"
     ]
    }
   ],
   "source": [
    "KNNf1score = f1_score(y_test, KNNy_pred,average=\"macro\")\n",
    "print(KNNf1score)"
   ]
  },
  {
   "cell_type": "markdown",
   "metadata": {},
   "source": [
    "#### Random Forest Classification"
   ]
  },
  {
   "cell_type": "code",
   "execution_count": 51,
   "metadata": {},
   "outputs": [
    {
     "data": {
      "text/plain": [
       "RandomForestClassifier(criterion='entropy', n_estimators=10, random_state=0)"
      ]
     },
     "execution_count": 51,
     "metadata": {},
     "output_type": "execute_result"
    }
   ],
   "source": [
    "from sklearn.ensemble import RandomForestClassifier\n",
    "RandomForestclassifier = RandomForestClassifier(n_estimators = 10, criterion = 'entropy', random_state = 0)\n",
    "RandomForestclassifier.fit(X_train, y_train)"
   ]
  },
  {
   "cell_type": "code",
   "execution_count": 52,
   "metadata": {},
   "outputs": [
    {
     "name": "stdout",
     "output_type": "stream",
     "text": [
      "[[ 245    4  354    0]\n",
      " [   6  511  287  300]\n",
      " [ 214  138 2164    5]\n",
      " [   3  418   30  480]]\n"
     ]
    },
    {
     "data": {
      "text/plain": [
       "0.6590424500872262"
      ]
     },
     "execution_count": 52,
     "metadata": {},
     "output_type": "execute_result"
    }
   ],
   "source": [
    "RandomForesty_pred = RandomForestclassifier.predict(X_test)\n",
    "RandomForestcm = confusion_matrix(y_test, RandomForesty_pred)\n",
    "print(RandomForestcm)\n",
    "accuracy_score(y_test, RandomForesty_pred)"
   ]
  },
  {
   "cell_type": "code",
   "execution_count": 53,
   "metadata": {},
   "outputs": [
    {
     "name": "stdout",
     "output_type": "stream",
     "text": [
      "0.5737269193670462\n"
     ]
    }
   ],
   "source": [
    "RandomForestf1_score = f1_score(y_test, RandomForesty_pred,average=\"macro\")\n",
    "print(RandomForestf1_score)"
   ]
  },
  {
   "cell_type": "markdown",
   "metadata": {},
   "source": [
    "#### Logistics Regression Classification"
   ]
  },
  {
   "cell_type": "code",
   "execution_count": 54,
   "metadata": {},
   "outputs": [
    {
     "data": {
      "text/plain": [
       "LogisticRegression(random_state=0)"
      ]
     },
     "execution_count": 54,
     "metadata": {},
     "output_type": "execute_result"
    }
   ],
   "source": [
    "from sklearn.linear_model import LogisticRegression\n",
    "LogisticRegressionclassifier = LogisticRegression(random_state = 0)\n",
    "LogisticRegressionclassifier.fit(X_train, y_train)"
   ]
  },
  {
   "cell_type": "code",
   "execution_count": 55,
   "metadata": {},
   "outputs": [
    {
     "name": "stdout",
     "output_type": "stream",
     "text": [
      "[[  21    9  573    0]\n",
      " [   0  407  320  377]\n",
      " [  22  126 2372    1]\n",
      " [   0  285   34  612]]\n"
     ]
    },
    {
     "data": {
      "text/plain": [
       "0.6613684822640047"
      ]
     },
     "execution_count": 55,
     "metadata": {},
     "output_type": "execute_result"
    }
   ],
   "source": [
    "LogisticRegressiony_pred = LogisticRegressionclassifier.predict(X_test)\n",
    "LogisticRegressioncm = confusion_matrix(y_test, LogisticRegressiony_pred)\n",
    "print(LogisticRegressioncm)\n",
    "accuracy_score(y_test, LogisticRegressiony_pred)"
   ]
  },
  {
   "cell_type": "code",
   "execution_count": 56,
   "metadata": {},
   "outputs": [
    {
     "name": "stdout",
     "output_type": "stream",
     "text": [
      "0.48471178455669384\n"
     ]
    }
   ],
   "source": [
    "LogisticRegressionf1_score = f1_score(y_test, LogisticRegressiony_pred,average=\"macro\")\n",
    "print(LogisticRegressionf1_score)"
   ]
  },
  {
   "cell_type": "markdown",
   "metadata": {},
   "source": [
    "#### Naive Bayes Classification"
   ]
  },
  {
   "cell_type": "code",
   "execution_count": 57,
   "metadata": {},
   "outputs": [
    {
     "data": {
      "text/plain": [
       "GaussianNB()"
      ]
     },
     "execution_count": 57,
     "metadata": {},
     "output_type": "execute_result"
    }
   ],
   "source": [
    "from sklearn.naive_bayes import GaussianNB\n",
    "NBclassifier = GaussianNB()\n",
    "NBclassifier.fit(X_train, y_train)"
   ]
  },
  {
   "cell_type": "code",
   "execution_count": 58,
   "metadata": {},
   "outputs": [
    {
     "name": "stdout",
     "output_type": "stream",
     "text": [
      "[[  98   28  477    0]\n",
      " [  13  306  290  495]\n",
      " [ 144  279 2097    1]\n",
      " [   8  164   43  716]]\n"
     ]
    },
    {
     "data": {
      "text/plain": [
       "0.6235704593913549"
      ]
     },
     "execution_count": 58,
     "metadata": {},
     "output_type": "execute_result"
    }
   ],
   "source": [
    "NBy_pred = NBclassifier.predict(X_test)\n",
    "NBcm = confusion_matrix(y_test, NBy_pred)\n",
    "print(NBcm)\n",
    "accuracy_score(y_test, NBy_pred)"
   ]
  },
  {
   "cell_type": "code",
   "execution_count": 59,
   "metadata": {},
   "outputs": [
    {
     "name": "stdout",
     "output_type": "stream",
     "text": [
      "0.49814229870057447\n"
     ]
    }
   ],
   "source": [
    "NBf1score = f1_score(y_test, NBy_pred,average=\"macro\")\n",
    "print(NBf1score)"
   ]
  },
  {
   "cell_type": "markdown",
   "metadata": {},
   "source": [
    "#### Model Selection"
   ]
  },
  {
   "cell_type": "markdown",
   "metadata": {},
   "source": [
    "Random Forest Tree classifier model performed the best. Although its accuracy score is the highest among these models, but the accuracy score is not such an appropriate measurement for model evulation, as it only reflect the percentage the models predicts correctly. Furthermore, its accuracy score is very near the highest - KNN (0.659 and 0.661). The determining factor for us to choose the Random Forest Tree classifier model is its f1 - score. F1 - score is the harmony variable, generating from the true positive, false negative, false positive rate of the confusion matrix, which the Random Forest Tree classifier scores the highest (0.5737269193670462)"
   ]
  },
  {
   "cell_type": "markdown",
   "metadata": {},
   "source": [
    "#### Applying Grid Search to find the best model and the best parameters"
   ]
  },
  {
   "cell_type": "code",
   "execution_count": 60,
   "metadata": {},
   "outputs": [
    {
     "name": "stdout",
     "output_type": "stream",
     "text": [
      "Best Accuracy: 68.69 %\n",
      "Best Parameters: {'max_features': 6, 'n_estimators': 30}\n"
     ]
    }
   ],
   "source": [
    "from sklearn.model_selection import GridSearchCV\n",
    "parameters = [\n",
    " {'n_estimators': [3, 10, 30], 'max_features': [2, 4, 6, 8]},\n",
    " {'bootstrap': [False], 'n_estimators': [3, 10], 'max_features': [2, 3, 4]},\n",
    " ]\n",
    "grid_search = GridSearchCV(estimator = RandomForestclassifier,\n",
    "                           param_grid = parameters,\n",
    "                           scoring = 'accuracy',\n",
    "                           cv = 10,\n",
    "                           n_jobs = -1)\n",
    "grid_search.fit(X_train, y_train)\n",
    "best_accuracy = grid_search.best_score_\n",
    "best_parameters = grid_search.best_params_\n",
    "print(\"Best Accuracy: {:.2f} %\".format(best_accuracy*100))\n",
    "print(\"Best Parameters:\", best_parameters)"
   ]
  },
  {
   "cell_type": "code",
   "execution_count": 61,
   "metadata": {},
   "outputs": [
    {
     "data": {
      "text/plain": [
       "RandomForestClassifier(max_features=6, n_estimators=30, random_state=0)"
      ]
     },
     "execution_count": 61,
     "metadata": {},
     "output_type": "execute_result"
    }
   ],
   "source": [
    "RandomForestclassifier = RandomForestClassifier(n_estimators = 30, max_features = 6, random_state = 0)\n",
    "RandomForestclassifier.fit(X_train, y_train)"
   ]
  },
  {
   "cell_type": "code",
   "execution_count": 62,
   "metadata": {},
   "outputs": [
    {
     "name": "stdout",
     "output_type": "stream",
     "text": [
      "[[ 257    2  344    0]\n",
      " [   7  469  295  333]\n",
      " [ 152  114 2249    6]\n",
      " [   0  344   30  557]]\n"
     ]
    },
    {
     "data": {
      "text/plain": [
       "0.684628804031789"
      ]
     },
     "execution_count": 62,
     "metadata": {},
     "output_type": "execute_result"
    }
   ],
   "source": [
    "RandomForesty_pred = RandomForestclassifier.predict(X_test)\n",
    "RandomForestcm = confusion_matrix(y_test, RandomForesty_pred)\n",
    "print(RandomForestcm)\n",
    "accuracy_score(y_test, RandomForesty_pred)"
   ]
  },
  {
   "cell_type": "code",
   "execution_count": 63,
   "metadata": {},
   "outputs": [
    {
     "name": "stdout",
     "output_type": "stream",
     "text": [
      "0.6006340525217232\n"
     ]
    }
   ],
   "source": [
    "RandomForestf1_score = f1_score(y_test, RandomForesty_pred,average=\"macro\")\n",
    "print(RandomForestf1_score)"
   ]
  },
  {
   "cell_type": "markdown",
   "metadata": {},
   "source": [
    "## Conclusions"
   ]
  },
  {
   "cell_type": "markdown",
   "metadata": {},
   "source": [
    "After applying `grid_search` to find the best parameters for the training process, our accuracy score and f1-score have slightly improved. However, an accuracy score of 0.685 and f1-score of 0.60 is not high enough. I acknowledge that the features I discusses in the potential factors may be bias, and we need to conduct more statistical test to find the feature which are most essential and remove features that do not really contribute to the difference of the final result, just as the way I omit two feature of `gender` and `region`. If I have more time on this data set, I definately spend more time to test the potential factors by visulizing and performing statistical test. Furthermore, as it is a Data Analytics Assignment, there maybe better to have more visualizaion and find insight rather than building a model to classify the final result of students."
   ]
  }
 ],
 "metadata": {
  "kernelspec": {
   "display_name": "Python 3",
   "language": "python",
   "name": "python3"
  },
  "language_info": {
   "codemirror_mode": {
    "name": "ipython",
    "version": 3
   },
   "file_extension": ".py",
   "mimetype": "text/x-python",
   "name": "python",
   "nbconvert_exporter": "python",
   "pygments_lexer": "ipython3",
   "version": "3.8.5"
  }
 },
 "nbformat": 4,
 "nbformat_minor": 4
}
